{
 "cells": [
  {
   "cell_type": "code",
   "execution_count": 2,
   "id": "0eb0354a-4d9c-4895-958a-bd716425a988",
   "metadata": {},
   "outputs": [
    {
     "data": {
      "text/plain": [
       "190.53"
      ]
     },
     "execution_count": 2,
     "metadata": {},
     "output_type": "execute_result"
    }
   ],
   "source": [
    "(522 * 365) /1000"
   ]
  },
  {
   "cell_type": "code",
   "execution_count": null,
   "id": "792f7f73-defe-4add-9faf-8e0df11e92dd",
   "metadata": {},
   "outputs": [],
   "source": []
  }
 ],
 "metadata": {
  "kernelspec": {
   "display_name": "Python 3 (ipykernel)",
   "language": "python",
   "name": "python3"
  },
  "language_info": {
   "codemirror_mode": {
    "name": "ipython",
    "version": 3
   },
   "file_extension": ".py",
   "mimetype": "text/x-python",
   "name": "python",
   "nbconvert_exporter": "python",
   "pygments_lexer": "ipython3",
   "version": "3.9.7"
  }
 },
 "nbformat": 4,
 "nbformat_minor": 5
}
