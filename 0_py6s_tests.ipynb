{
 "cells": [
  {
   "cell_type": "code",
   "execution_count": 27,
   "metadata": {},
   "outputs": [],
   "source": [
    "import numpy as np\n",
    "from Py6S import *\n",
    "# Create a SixS object called s (used as the standard name by convention)\n",
    "s = SixS()\n",
    "s.ground_reflectance = GroundReflectance.HomogeneousLambertian(1)\n",
    "geom = Geometry.User()\n",
    "geom.from_time_and_location(lat=52.04, lon=0.76, datetimestring='2020/06/22T12:00',\n",
    "                            view_z=0, view_a=0)\n",
    "s.geometry = geom\n",
    "\n",
    "s.altitudes.set_sensor_satellite_level()\n",
    "s.wavelength = Wavelength(0.550)\n",
    "s.run()\n",
    "s.outputs.write_output_file('test.txt')"
   ]
  },
  {
   "cell_type": "code",
   "execution_count": 14,
   "metadata": {},
   "outputs": [
    {
     "name": "stdout",
     "output_type": "stream",
     "text": [
      "Running for many wavelengths - this may take a long time\n"
     ]
    }
   ],
   "source": [
    "wavelengths1, results1 = SixSHelpers.Wavelengths.run_wavelengths(s, np.arange(400,900,10)/1000,\n",
    "                                                               output_name='pixel_radiance')"
   ]
  },
  {
   "cell_type": "code",
   "execution_count": 1,
   "metadata": {},
   "outputs": [],
   "source": [
    "from pyeosim import datasets\n",
    "import xarray\n",
    "import numpy as np\n",
    "from Py6S import *\n",
    "# Create a SixS object called s (used as the standard name by convention)\n",
    "s = SixS()\n",
    "s.ground_reflectance = GroundReflectance.HomogeneousLambertian(1)\n",
    "geom = Geometry.User()\n",
    "geom.from_time_and_location(lat=52.04, lon=0.76, datetimestring='2020/06/22T12:00',\n",
    "                            view_z=0, view_a=0)\n",
    "s.geometry = geom\n",
    "\n",
    "s.altitudes.set_sensor_satellite_level()\n",
    "\n",
    "# Run the 6S simulation defined by this SixS object across the\n",
    "# whole VNIR range\n",
    "wavelengths1, results1 = SixSHelpers.Wavelengths.run_wavelengths(s, np.arange(400,900,2)/1000,\n",
    "                                                               output_name='pixel_radiance')\n",
    "# Plot these results, with the y axis label set to \"Pixel Radiance\"\n",
    "SixSHelpers.Wavelengths.plot_wavelengths(wavelengths1, results1, \"Pixel Radiance\")\n",
    "ref_100 = xarray.DataArray(results1, [('wavelength', wavelengths1*1000)]).interp(\n",
    "    wavelength = np.arange(400,900,1)\n",
    ").interpolate_na('wavelength')\n",
    "\n",
    "rho = np.arange(0,1,.001)\n",
    "output = np.empty(shape=(len(rho), 500))\n",
    "\n",
    "for i, _rho in enumerate(rho):\n",
    "    _res = ref_100* _rho\n",
    "    output[i,:] = _res\n",
    "\n",
    "LUT = xarray.DataArray(output,[('rho', rho),('wavelength', np.arange(400,900,1))])\n",
    "LUTd = LUT.to_dataset(name='pixel_radiance')\n",
    "LUTd.attrs['6S_output_params'] = str(s.outputs.values)"
   ]
  }
 ],
 "metadata": {
  "kernelspec": {
   "display_name": "Python 3",
   "language": "python",
   "name": "python3"
  },
  "language_info": {
   "codemirror_mode": {
    "name": "ipython",
    "version": 3
   },
   "file_extension": ".py",
   "mimetype": "text/x-python",
   "name": "python",
   "nbconvert_exporter": "python",
   "pygments_lexer": "ipython3",
   "version": "3.7.4"
  }
 },
 "nbformat": 4,
 "nbformat_minor": 4
}
