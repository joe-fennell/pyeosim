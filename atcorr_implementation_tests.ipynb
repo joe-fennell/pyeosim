{
 "cells": [
  {
   "cell_type": "code",
   "execution_count": 1,
   "id": "b8abd29a-3888-4429-9b67-2664f20b743b",
   "metadata": {},
   "outputs": [
    {
     "name": "stdout",
     "output_type": "stream",
     "text": [
      "Available Sensor Configurations:\n",
      "['TreeView_1_MSI_16', 'TreeView_1_MSI_32', 'TreeView_2_MSI_16', 'TreeView_2_MSI_32', 'TreeView_1_PAN_32', 'TreeView_1_PAN_64', 'TreeView_2_PAN_32', 'TreeView_2_PAN_64', 'TreeView_3_MSI_16', 'TreeView_3_MSI_32', 'TreeView_3_PAN_32', 'TreeView_3_PAN_64']\n"
     ]
    }
   ],
   "source": [
    "import numpy as np\n",
    "from datetime import datetime\n",
    "import os\n",
    "import json\n",
    "from pyeosim import spectral, atmosphere\n",
    "from pyeosim import sensor\n",
    "from pyeosim import datasets\n",
    "import pysolar\n",
    "import pandas as pd\n",
    "import yaml\n",
    "import colorcet as cc\n",
    "import xarray\n",
    "import matplotlib.pyplot as plt\n",
    "from scipy.stats import linregress\n",
    "import Py6S\n",
    "\n",
    "def read_atmos_meta(path):\n",
    "    \"\"\"\n",
    "    Loads JSON file containing atmospheric simulation parameters used in 6SV\n",
    "    \"\"\"\n",
    "    jsons = os.listdir(path)\n",
    "    jsons = [x for x in os.listdir(path) if x.endswith('json')]\n",
    "    metas = {}\n",
    "    for _json in jsons:\n",
    "        with open(os.path.join(path, _json), 'r') as f:\n",
    "            metas[_json.split('.')[0]] = json.load(f)\n",
    "    return pd.DataFrame(metas).T\n",
    "# applying spatial/spectral downsampling without sensor\n",
    "def apply_spatial_spectral_downsampling(arr, sensor):\n",
    "    return arr.pipe(sensor.steps[1][1]).pipe(sensor.steps[2][1],\n",
    "             sensor.psf_fwhm, sensor.ground_sample_distance)\n",
    "    \n",
    "def sensor_correction_experiment(toa_radiance, sensor):\n",
    "    \"\"\"\n",
    "    Performs a calibration experiment based on an input radiance dataset\n",
    "    and a sensor to give the correction factors needed to convert DN\n",
    "    to apparent radiance. Note that this assumes a linear relationship\n",
    "    between DN and radiance.\n",
    "    \n",
    "    Parameters\n",
    "    ----------\n",
    "    toa_radiance : xarray.DataArray\n",
    "        At-sensor (top-of-atmosphere) Radiance\n",
    "    sensor : pyeosim.sensor.Sensor\n",
    "        A valid sensor instance\n",
    "    \n",
    "    Returns\n",
    "    -------\n",
    "    calibration_coefs : xarray.Dataset\n",
    "        contains the m and c parameters for linear\n",
    "        model to convert DN to radiance\n",
    "    \"\"\"\n",
    "    # applying spatial/spectral downsampling without sensor\n",
    "    def apply_spatial_spectral_downsampling(arr, sensor):\n",
    "        return arr.pipe(sensor.steps[1][1]).pipe(sensor.steps[2][1],\n",
    "                 sensor.psf_fwhm, sensor.ground_sample_distance)\n",
    "    \n",
    "    # applying linear regression model\n",
    "    def find_coeffs(radiance, sensor_output):\n",
    "        # create vectors\n",
    "        y = radiance.values.ravel()\n",
    "        x = sensor_output.values.ravel()\n",
    "        res = linregress(x, y)\n",
    "        return res.slope, res.intercept\n",
    "    \n",
    "    # converting linregress coefs to xarray\n",
    "    def corrections_to_xarray(corrs):\n",
    "        df = pd.DataFrame(corrs).T\n",
    "        m = xarray.DataArray(df[0], dims='band', name='m')\n",
    "        c = xarray.DataArray(df[1], dims='band', name='c')\n",
    "        return xarray.Dataset({'m':m,'c':c})\n",
    "    \n",
    "    # Sensor equivalent radiance\n",
    "    dn = sensor.fit_transform(toa_radiance)\n",
    "    L_s = apply_spatial_spectral_downsampling(toa_radiance, sensor)\n",
    "    \n",
    "    # iterate bands and apply linear regression to each band\n",
    "    out = {}\n",
    "    for i, b in enumerate(dn.band_name.values):\n",
    "        out[i] = find_coeffs(L_s.isel(band=i),\n",
    "                                dn.isel(band=i))\n",
    "\n",
    "    return corrections_to_xarray(out)\n",
    "\n",
    "def convert_to_radiance(sensor_dn, corrections):\n",
    "    \"\"\"\n",
    "    Converts DN to apparent radiance using corrections\n",
    "    in a linear model y=mx + c\n",
    "    \n",
    "    Parameters\n",
    "    ----------\n",
    "    sensor_dn : xarray.DataArray\n",
    "        sensor output in DN\n",
    "    corrections : xarray.Dataset\n",
    "        dataset with m and c variables\n",
    "    \n",
    "    Returns\n",
    "    -------\n",
    "    sensor_radiance : xarray.DataArray\n",
    "        sensor output in radiance\n",
    "    \"\"\"\n",
    "    return (sensor_dn * corrections['m'] ) + corrections['c']\n",
    "\n",
    "\n",
    "# This data is bottom of atmosphere reflectance (approximated) and so is used as starting point for simulation\n",
    "surface_reflectance = xarray.open_dataset(datasets.DATA_PATHS['TEST_HSI_LARGE']).Reflectance\n",
    "surface_reflectance = surface_reflectance.swap_dims({'band':'wavelength'})\n",
    "# slice between 400 and 898 to reduce data volume and align with the bandpass responses used later in simulation\n",
    "# Also rescale to reflectance by divide by 10000\n",
    "surface_reflectance = surface_reflectance.sel(wavelength=slice(400,898)).astype(float)/10000\n",
    "# replace anything with a greater than 1 reflectance by truncating at 1\n",
    "surface_reflectance = surface_reflectance.where(surface_reflectance <= 1, other=1)\n",
    "# Load sensor configurations\n",
    "sensor_configs = yaml.load(open('sensors.yaml', 'r'), Loader=yaml.Loader)\n",
    "print('Available Sensor Configurations:')\n",
    "print(list(sensor_configs.keys()))"
   ]
  },
  {
   "cell_type": "code",
   "execution_count": 2,
   "id": "c733a212-2e03-4d7f-944f-7df986c4f727",
   "metadata": {},
   "outputs": [
    {
     "data": {
      "text/html": [
       "<div><svg style=\"position: absolute; width: 0; height: 0; overflow: hidden\">\n",
       "<defs>\n",
       "<symbol id=\"icon-database\" viewBox=\"0 0 32 32\">\n",
       "<path d=\"M16 0c-8.837 0-16 2.239-16 5v4c0 2.761 7.163 5 16 5s16-2.239 16-5v-4c0-2.761-7.163-5-16-5z\"></path>\n",
       "<path d=\"M16 17c-8.837 0-16-2.239-16-5v6c0 2.761 7.163 5 16 5s16-2.239 16-5v-6c0 2.761-7.163 5-16 5z\"></path>\n",
       "<path d=\"M16 26c-8.837 0-16-2.239-16-5v6c0 2.761 7.163 5 16 5s16-2.239 16-5v-6c0 2.761-7.163 5-16 5z\"></path>\n",
       "</symbol>\n",
       "<symbol id=\"icon-file-text2\" viewBox=\"0 0 32 32\">\n",
       "<path d=\"M28.681 7.159c-0.694-0.947-1.662-2.053-2.724-3.116s-2.169-2.030-3.116-2.724c-1.612-1.182-2.393-1.319-2.841-1.319h-15.5c-1.378 0-2.5 1.121-2.5 2.5v27c0 1.378 1.122 2.5 2.5 2.5h23c1.378 0 2.5-1.122 2.5-2.5v-19.5c0-0.448-0.137-1.23-1.319-2.841zM24.543 5.457c0.959 0.959 1.712 1.825 2.268 2.543h-4.811v-4.811c0.718 0.556 1.584 1.309 2.543 2.268zM28 29.5c0 0.271-0.229 0.5-0.5 0.5h-23c-0.271 0-0.5-0.229-0.5-0.5v-27c0-0.271 0.229-0.5 0.5-0.5 0 0 15.499-0 15.5 0v7c0 0.552 0.448 1 1 1h7v19.5z\"></path>\n",
       "<path d=\"M23 26h-14c-0.552 0-1-0.448-1-1s0.448-1 1-1h14c0.552 0 1 0.448 1 1s-0.448 1-1 1z\"></path>\n",
       "<path d=\"M23 22h-14c-0.552 0-1-0.448-1-1s0.448-1 1-1h14c0.552 0 1 0.448 1 1s-0.448 1-1 1z\"></path>\n",
       "<path d=\"M23 18h-14c-0.552 0-1-0.448-1-1s0.448-1 1-1h14c0.552 0 1 0.448 1 1s-0.448 1-1 1z\"></path>\n",
       "</symbol>\n",
       "</defs>\n",
       "</svg>\n",
       "<style>/* CSS stylesheet for displaying xarray objects in jupyterlab.\n",
       " *\n",
       " */\n",
       "\n",
       ":root {\n",
       "  --xr-font-color0: var(--jp-content-font-color0, rgba(0, 0, 0, 1));\n",
       "  --xr-font-color2: var(--jp-content-font-color2, rgba(0, 0, 0, 0.54));\n",
       "  --xr-font-color3: var(--jp-content-font-color3, rgba(0, 0, 0, 0.38));\n",
       "  --xr-border-color: var(--jp-border-color2, #e0e0e0);\n",
       "  --xr-disabled-color: var(--jp-layout-color3, #bdbdbd);\n",
       "  --xr-background-color: var(--jp-layout-color0, white);\n",
       "  --xr-background-color-row-even: var(--jp-layout-color1, white);\n",
       "  --xr-background-color-row-odd: var(--jp-layout-color2, #eeeeee);\n",
       "}\n",
       "\n",
       "html[theme=dark],\n",
       "body.vscode-dark {\n",
       "  --xr-font-color0: rgba(255, 255, 255, 1);\n",
       "  --xr-font-color2: rgba(255, 255, 255, 0.54);\n",
       "  --xr-font-color3: rgba(255, 255, 255, 0.38);\n",
       "  --xr-border-color: #1F1F1F;\n",
       "  --xr-disabled-color: #515151;\n",
       "  --xr-background-color: #111111;\n",
       "  --xr-background-color-row-even: #111111;\n",
       "  --xr-background-color-row-odd: #313131;\n",
       "}\n",
       "\n",
       ".xr-wrap {\n",
       "  display: block;\n",
       "  min-width: 300px;\n",
       "  max-width: 700px;\n",
       "}\n",
       "\n",
       ".xr-text-repr-fallback {\n",
       "  /* fallback to plain text repr when CSS is not injected (untrusted notebook) */\n",
       "  display: none;\n",
       "}\n",
       "\n",
       ".xr-header {\n",
       "  padding-top: 6px;\n",
       "  padding-bottom: 6px;\n",
       "  margin-bottom: 4px;\n",
       "  border-bottom: solid 1px var(--xr-border-color);\n",
       "}\n",
       "\n",
       ".xr-header > div,\n",
       ".xr-header > ul {\n",
       "  display: inline;\n",
       "  margin-top: 0;\n",
       "  margin-bottom: 0;\n",
       "}\n",
       "\n",
       ".xr-obj-type,\n",
       ".xr-array-name {\n",
       "  margin-left: 2px;\n",
       "  margin-right: 10px;\n",
       "}\n",
       "\n",
       ".xr-obj-type {\n",
       "  color: var(--xr-font-color2);\n",
       "}\n",
       "\n",
       ".xr-sections {\n",
       "  padding-left: 0 !important;\n",
       "  display: grid;\n",
       "  grid-template-columns: 150px auto auto 1fr 20px 20px;\n",
       "}\n",
       "\n",
       ".xr-section-item {\n",
       "  display: contents;\n",
       "}\n",
       "\n",
       ".xr-section-item input {\n",
       "  display: none;\n",
       "}\n",
       "\n",
       ".xr-section-item input + label {\n",
       "  color: var(--xr-disabled-color);\n",
       "}\n",
       "\n",
       ".xr-section-item input:enabled + label {\n",
       "  cursor: pointer;\n",
       "  color: var(--xr-font-color2);\n",
       "}\n",
       "\n",
       ".xr-section-item input:enabled + label:hover {\n",
       "  color: var(--xr-font-color0);\n",
       "}\n",
       "\n",
       ".xr-section-summary {\n",
       "  grid-column: 1;\n",
       "  color: var(--xr-font-color2);\n",
       "  font-weight: 500;\n",
       "}\n",
       "\n",
       ".xr-section-summary > span {\n",
       "  display: inline-block;\n",
       "  padding-left: 0.5em;\n",
       "}\n",
       "\n",
       ".xr-section-summary-in:disabled + label {\n",
       "  color: var(--xr-font-color2);\n",
       "}\n",
       "\n",
       ".xr-section-summary-in + label:before {\n",
       "  display: inline-block;\n",
       "  content: '►';\n",
       "  font-size: 11px;\n",
       "  width: 15px;\n",
       "  text-align: center;\n",
       "}\n",
       "\n",
       ".xr-section-summary-in:disabled + label:before {\n",
       "  color: var(--xr-disabled-color);\n",
       "}\n",
       "\n",
       ".xr-section-summary-in:checked + label:before {\n",
       "  content: '▼';\n",
       "}\n",
       "\n",
       ".xr-section-summary-in:checked + label > span {\n",
       "  display: none;\n",
       "}\n",
       "\n",
       ".xr-section-summary,\n",
       ".xr-section-inline-details {\n",
       "  padding-top: 4px;\n",
       "  padding-bottom: 4px;\n",
       "}\n",
       "\n",
       ".xr-section-inline-details {\n",
       "  grid-column: 2 / -1;\n",
       "}\n",
       "\n",
       ".xr-section-details {\n",
       "  display: none;\n",
       "  grid-column: 1 / -1;\n",
       "  margin-bottom: 5px;\n",
       "}\n",
       "\n",
       ".xr-section-summary-in:checked ~ .xr-section-details {\n",
       "  display: contents;\n",
       "}\n",
       "\n",
       ".xr-array-wrap {\n",
       "  grid-column: 1 / -1;\n",
       "  display: grid;\n",
       "  grid-template-columns: 20px auto;\n",
       "}\n",
       "\n",
       ".xr-array-wrap > label {\n",
       "  grid-column: 1;\n",
       "  vertical-align: top;\n",
       "}\n",
       "\n",
       ".xr-preview {\n",
       "  color: var(--xr-font-color3);\n",
       "}\n",
       "\n",
       ".xr-array-preview,\n",
       ".xr-array-data {\n",
       "  padding: 0 5px !important;\n",
       "  grid-column: 2;\n",
       "}\n",
       "\n",
       ".xr-array-data,\n",
       ".xr-array-in:checked ~ .xr-array-preview {\n",
       "  display: none;\n",
       "}\n",
       "\n",
       ".xr-array-in:checked ~ .xr-array-data,\n",
       ".xr-array-preview {\n",
       "  display: inline-block;\n",
       "}\n",
       "\n",
       ".xr-dim-list {\n",
       "  display: inline-block !important;\n",
       "  list-style: none;\n",
       "  padding: 0 !important;\n",
       "  margin: 0;\n",
       "}\n",
       "\n",
       ".xr-dim-list li {\n",
       "  display: inline-block;\n",
       "  padding: 0;\n",
       "  margin: 0;\n",
       "}\n",
       "\n",
       ".xr-dim-list:before {\n",
       "  content: '(';\n",
       "}\n",
       "\n",
       ".xr-dim-list:after {\n",
       "  content: ')';\n",
       "}\n",
       "\n",
       ".xr-dim-list li:not(:last-child):after {\n",
       "  content: ',';\n",
       "  padding-right: 5px;\n",
       "}\n",
       "\n",
       ".xr-has-index {\n",
       "  font-weight: bold;\n",
       "}\n",
       "\n",
       ".xr-var-list,\n",
       ".xr-var-item {\n",
       "  display: contents;\n",
       "}\n",
       "\n",
       ".xr-var-item > div,\n",
       ".xr-var-item label,\n",
       ".xr-var-item > .xr-var-name span {\n",
       "  background-color: var(--xr-background-color-row-even);\n",
       "  margin-bottom: 0;\n",
       "}\n",
       "\n",
       ".xr-var-item > .xr-var-name:hover span {\n",
       "  padding-right: 5px;\n",
       "}\n",
       "\n",
       ".xr-var-list > li:nth-child(odd) > div,\n",
       ".xr-var-list > li:nth-child(odd) > label,\n",
       ".xr-var-list > li:nth-child(odd) > .xr-var-name span {\n",
       "  background-color: var(--xr-background-color-row-odd);\n",
       "}\n",
       "\n",
       ".xr-var-name {\n",
       "  grid-column: 1;\n",
       "}\n",
       "\n",
       ".xr-var-dims {\n",
       "  grid-column: 2;\n",
       "}\n",
       "\n",
       ".xr-var-dtype {\n",
       "  grid-column: 3;\n",
       "  text-align: right;\n",
       "  color: var(--xr-font-color2);\n",
       "}\n",
       "\n",
       ".xr-var-preview {\n",
       "  grid-column: 4;\n",
       "}\n",
       "\n",
       ".xr-var-name,\n",
       ".xr-var-dims,\n",
       ".xr-var-dtype,\n",
       ".xr-preview,\n",
       ".xr-attrs dt {\n",
       "  white-space: nowrap;\n",
       "  overflow: hidden;\n",
       "  text-overflow: ellipsis;\n",
       "  padding-right: 10px;\n",
       "}\n",
       "\n",
       ".xr-var-name:hover,\n",
       ".xr-var-dims:hover,\n",
       ".xr-var-dtype:hover,\n",
       ".xr-attrs dt:hover {\n",
       "  overflow: visible;\n",
       "  width: auto;\n",
       "  z-index: 1;\n",
       "}\n",
       "\n",
       ".xr-var-attrs,\n",
       ".xr-var-data {\n",
       "  display: none;\n",
       "  background-color: var(--xr-background-color) !important;\n",
       "  padding-bottom: 5px !important;\n",
       "}\n",
       "\n",
       ".xr-var-attrs-in:checked ~ .xr-var-attrs,\n",
       ".xr-var-data-in:checked ~ .xr-var-data {\n",
       "  display: block;\n",
       "}\n",
       "\n",
       ".xr-var-data > table {\n",
       "  float: right;\n",
       "}\n",
       "\n",
       ".xr-var-name span,\n",
       ".xr-var-data,\n",
       ".xr-attrs {\n",
       "  padding-left: 25px !important;\n",
       "}\n",
       "\n",
       ".xr-attrs,\n",
       ".xr-var-attrs,\n",
       ".xr-var-data {\n",
       "  grid-column: 1 / -1;\n",
       "}\n",
       "\n",
       "dl.xr-attrs {\n",
       "  padding: 0;\n",
       "  margin: 0;\n",
       "  display: grid;\n",
       "  grid-template-columns: 125px auto;\n",
       "}\n",
       "\n",
       ".xr-attrs dt,\n",
       ".xr-attrs dd {\n",
       "  padding: 0;\n",
       "  margin: 0;\n",
       "  float: left;\n",
       "  padding-right: 10px;\n",
       "  width: auto;\n",
       "}\n",
       "\n",
       ".xr-attrs dt {\n",
       "  font-weight: normal;\n",
       "  grid-column: 1;\n",
       "}\n",
       "\n",
       ".xr-attrs dt:hover span {\n",
       "  display: inline-block;\n",
       "  background: var(--xr-background-color);\n",
       "  padding-right: 10px;\n",
       "}\n",
       "\n",
       ".xr-attrs dd {\n",
       "  grid-column: 2;\n",
       "  white-space: pre-wrap;\n",
       "  word-break: break-all;\n",
       "}\n",
       "\n",
       ".xr-icon-database,\n",
       ".xr-icon-file-text2 {\n",
       "  display: inline-block;\n",
       "  vertical-align: middle;\n",
       "  width: 1em;\n",
       "  height: 1.5em !important;\n",
       "  stroke-width: 0;\n",
       "  stroke: currentColor;\n",
       "  fill: currentColor;\n",
       "}\n",
       "</style><pre class='xr-text-repr-fallback'>&lt;xarray.Dataset&gt;\n",
       "Dimensions:  (band: 8)\n",
       "Coordinates:\n",
       "  * band     (band) int64 0 1 2 3 4 5 6 7\n",
       "Data variables:\n",
       "    m        (band) float64 0.001913 0.001521 0.001349 ... 0.001213 0.001672\n",
       "    c        (band) float64 -0.0003271 -0.001809 ... -0.0001897 -0.0002429</pre><div class='xr-wrap' hidden><div class='xr-header'><div class='xr-obj-type'>xarray.Dataset</div></div><ul class='xr-sections'><li class='xr-section-item'><input id='section-063a7335-ac52-48f7-bf81-2858bf8289ef' class='xr-section-summary-in' type='checkbox' disabled ><label for='section-063a7335-ac52-48f7-bf81-2858bf8289ef' class='xr-section-summary'  title='Expand/collapse section'>Dimensions:</label><div class='xr-section-inline-details'><ul class='xr-dim-list'><li><span class='xr-has-index'>band</span>: 8</li></ul></div><div class='xr-section-details'></div></li><li class='xr-section-item'><input id='section-0e43b73c-820c-436f-ae34-72e0a5e7d735' class='xr-section-summary-in' type='checkbox'  checked><label for='section-0e43b73c-820c-436f-ae34-72e0a5e7d735' class='xr-section-summary' >Coordinates: <span>(1)</span></label><div class='xr-section-inline-details'></div><div class='xr-section-details'><ul class='xr-var-list'><li class='xr-var-item'><div class='xr-var-name'><span class='xr-has-index'>band</span></div><div class='xr-var-dims'>(band)</div><div class='xr-var-dtype'>int64</div><div class='xr-var-preview xr-preview'>0 1 2 3 4 5 6 7</div><input id='attrs-a9ee7c51-c921-47ec-83d4-8f5234961743' class='xr-var-attrs-in' type='checkbox' disabled><label for='attrs-a9ee7c51-c921-47ec-83d4-8f5234961743' title='Show/Hide attributes'><svg class='icon xr-icon-file-text2'><use xlink:href='#icon-file-text2'></use></svg></label><input id='data-a148f1b0-c275-4cf8-b1b5-693e4dc1f618' class='xr-var-data-in' type='checkbox'><label for='data-a148f1b0-c275-4cf8-b1b5-693e4dc1f618' title='Show/Hide data repr'><svg class='icon xr-icon-database'><use xlink:href='#icon-database'></use></svg></label><div class='xr-var-attrs'><dl class='xr-attrs'></dl></div><div class='xr-var-data'><pre>array([0, 1, 2, 3, 4, 5, 6, 7])</pre></div></li></ul></div></li><li class='xr-section-item'><input id='section-c932a7a8-2d61-4443-9735-4ebb3171ff1f' class='xr-section-summary-in' type='checkbox'  checked><label for='section-c932a7a8-2d61-4443-9735-4ebb3171ff1f' class='xr-section-summary' >Data variables: <span>(2)</span></label><div class='xr-section-inline-details'></div><div class='xr-section-details'><ul class='xr-var-list'><li class='xr-var-item'><div class='xr-var-name'><span>m</span></div><div class='xr-var-dims'>(band)</div><div class='xr-var-dtype'>float64</div><div class='xr-var-preview xr-preview'>0.001913 0.001521 ... 0.001672</div><input id='attrs-6575ce1c-b132-4f11-8e41-4e833bc390e0' class='xr-var-attrs-in' type='checkbox' disabled><label for='attrs-6575ce1c-b132-4f11-8e41-4e833bc390e0' title='Show/Hide attributes'><svg class='icon xr-icon-file-text2'><use xlink:href='#icon-file-text2'></use></svg></label><input id='data-cdbd1628-9cf4-47e0-b34e-8c4f708e0956' class='xr-var-data-in' type='checkbox'><label for='data-cdbd1628-9cf4-47e0-b34e-8c4f708e0956' title='Show/Hide data repr'><svg class='icon xr-icon-database'><use xlink:href='#icon-database'></use></svg></label><div class='xr-var-attrs'><dl class='xr-attrs'></dl></div><div class='xr-var-data'><pre>array([0.00191255, 0.00152078, 0.001349  , 0.00123879, 0.00117574,\n",
       "       0.001144  , 0.00121255, 0.00167198])</pre></div></li><li class='xr-var-item'><div class='xr-var-name'><span>c</span></div><div class='xr-var-dims'>(band)</div><div class='xr-var-dtype'>float64</div><div class='xr-var-preview xr-preview'>-0.0003271 -0.001809 ... -0.0002429</div><input id='attrs-3977fadf-e10b-49e5-b1dd-d08ccc51ba57' class='xr-var-attrs-in' type='checkbox' disabled><label for='attrs-3977fadf-e10b-49e5-b1dd-d08ccc51ba57' title='Show/Hide attributes'><svg class='icon xr-icon-file-text2'><use xlink:href='#icon-file-text2'></use></svg></label><input id='data-89a80028-1bf7-4a93-815e-01349accdc7b' class='xr-var-data-in' type='checkbox'><label for='data-89a80028-1bf7-4a93-815e-01349accdc7b' title='Show/Hide data repr'><svg class='icon xr-icon-database'><use xlink:href='#icon-database'></use></svg></label><div class='xr-var-attrs'><dl class='xr-attrs'></dl></div><div class='xr-var-data'><pre>array([-3.27128486e-04, -1.80940122e-03,  1.11436932e-03,  3.46080342e-05,\n",
       "        5.45803684e-05, -6.39488191e-05, -1.89700460e-04, -2.42933350e-04])</pre></div></li></ul></div></li><li class='xr-section-item'><input id='section-73fe064a-58c3-467b-81c8-516dc076f059' class='xr-section-summary-in' type='checkbox' disabled ><label for='section-73fe064a-58c3-467b-81c8-516dc076f059' class='xr-section-summary'  title='Expand/collapse section'>Attributes: <span>(0)</span></label><div class='xr-section-inline-details'></div><div class='xr-section-details'><dl class='xr-attrs'></dl></div></li></ul></div></div>"
      ],
      "text/plain": [
       "<xarray.Dataset>\n",
       "Dimensions:  (band: 8)\n",
       "Coordinates:\n",
       "  * band     (band) int64 0 1 2 3 4 5 6 7\n",
       "Data variables:\n",
       "    m        (band) float64 0.001913 0.001521 0.001349 ... 0.001213 0.001672\n",
       "    c        (band) float64 -0.0003271 -0.001809 ... -0.0001897 -0.0002429"
      ]
     },
     "execution_count": 2,
     "metadata": {},
     "output_type": "execute_result"
    }
   ],
   "source": [
    "# Load an atmosphere for simulation\n",
    "atm = atmosphere.LUT_from_file('atmospheres/atmospheres_2/')\n",
    "# Use the Milton Keynes 22/6/2020, 10.30 scenario\n",
    "atm.LUT = atm.LUT.isel(scenario=6)\n",
    "# convert reflectance to radiance with atmospheric conversion\n",
    "toa_radiance = atm.transform(surface_reflectance)\n",
    "# generate a known zero region representing the masked\n",
    "# region of the sensor\n",
    "toa_radiance[:, 0:62, 300:362] = 0\n",
    "# make a standard Teledyne Sensor instance\n",
    "teledyne_msi32 = sensor.TeledyneCMOS(**sensor_configs['TreeView_3_MSI_32'])\n",
    "# standard simulation run\n",
    "# sensor_output = teledyne_msi32.fit_transform(toa_radiance)\n",
    "# generate the correction coefficients for our simulated sensor\n",
    "# to convert from instrument DN to TOA Radiance (in Wm2 nm)\n",
    "corrections = sensor_correction_experiment(toa_radiance, teledyne_msi32)\n",
    "corrections"
   ]
  },
  {
   "cell_type": "code",
   "execution_count": 3,
   "id": "ea6d88e1-466a-4c4d-b57f-2def7b248c36",
   "metadata": {},
   "outputs": [],
   "source": [
    "# Run a simulation\n",
    "sensor_output = teledyne_msi32.transform(toa_radiance)\n",
    "# Convert to radiance using Radiance = (m * DN) + c \n",
    "sensor_output_radiance = convert_to_radiance(sensor_output, corrections)\n",
    "# Generate equivalent reflectance (non-normalised) and radiance downsampled to sensor spatial/spectral\n",
    "sensor_equiv_reflectance = apply_spatial_spectral_downsampling(surface_reflectance, teledyne_msi32)\n",
    "sensor_equiv_radiance = apply_spatial_spectral_downsampling(toa_radiance, teledyne_msi32)"
   ]
  },
  {
   "cell_type": "code",
   "execution_count": 138,
   "id": "be942608-ef5b-4298-b668-308c8734fe94",
   "metadata": {},
   "outputs": [],
   "source": [
    "def generate_mk_test_sixs():\n",
    "    a = Py6S.SixS()\n",
    "\n",
    "    a.ground_reflectance = Py6S.GroundReflectance.HomogeneousLambertian(1)\n",
    "    a.altitudes.set_sensor_satellite_level()\n",
    "    geom = Py6S.Geometry.User()\n",
    "    geom.from_time_and_location(lat=52.04,\n",
    "                                lon=0.76,\n",
    "                                datetimestring='2020-06-22 10:30:00',\n",
    "                                view_z=0,\n",
    "                                view_a=0)\n",
    "    a.geometry = geom\n",
    "    return a\n",
    "\n",
    "\n",
    "\n",
    "def generate_correction_LUT(six_s_instance, spectral_responses):\n",
    "    \"\"\"\n",
    "    generate the LUT for a sensor given a parameterised SixS object\n",
    "    \n",
    "    Parameters\n",
    "    ----------\n",
    "    SixS : Py6S.SixS\n",
    "        atmospheric conditions\n",
    "    spectral_responses : pyeosim.spectral\n",
    "        spectral response object\n",
    "    \"\"\"\n",
    "    def get_correction_coefs(fitted_6s):\n",
    "        s = fitted_6s\n",
    "        # filter width\n",
    "        fw = s.outputs.int_funct_filt\n",
    "        # solar irradiance\n",
    "        # direct solar irradiance\n",
    "        Edir = s.outputs.direct_solar_irradiance * fw\n",
    "        # diffuse solar irradiance\n",
    "        Edif = s.outputs.diffuse_solar_irradiance * fw\n",
    "#         # Environmental irradiance\n",
    "        Eenv = s.outputs.environmental_irradiance * fw\n",
    "        # sum for total\n",
    "        E = Edir + Edif + Eenv\n",
    "        # transmissivity\n",
    "        # absorption transmissivity\n",
    "        absorb  = s.outputs.trans['global_gas'].upward\n",
    "#         absorb  = s.outputs.trans['global_gas'].total\n",
    "        # scattering transmissivity\n",
    "        scatter = s.outputs.trans['total_scattering'].upward\n",
    "#         scatter = s.outputs.trans['total_scattering'].total\n",
    "        # transmissivity (from surface to sensor)\n",
    "        tau = absorb * scatter\n",
    "#         tau = s.outputs.rat['optical_depth_total'].total\n",
    "        # Our corrected version:\n",
    "#         tau = 1 - (absorb * scatter)\n",
    "        # path radiance\n",
    "        Lp   = s.outputs.atmospheric_intrinsic_radiance * fw\n",
    "\n",
    "        # correction coefficients for this configuration\n",
    "        # i.e. surface_reflectance = (L - a) / b,\n",
    "        #      where, L is at-sensor radiance\n",
    "        a = Lp\n",
    "        b = (tau * E) / np.pi\n",
    "        return a, b\n",
    "    \n",
    "    a = []\n",
    "    b = []\n",
    "    raw_out = []\n",
    "    srfs = spectral_responses.to_6sv().values()\n",
    "    for srf in srfs:\n",
    "        six_s_instance.wavelength = Py6S.Wavelength(*srf)\n",
    "        six_s_instance.run()\n",
    "        _a, _b = get_correction_coefs(six_s_instance)\n",
    "        a.append(_a)\n",
    "        b.append(_b)\n",
    "        raw_out.append(six_s_instance.outputs)\n",
    "        \n",
    "    # convert to xarray\n",
    "    a = xarray.DataArray(a, coords=[('band', np.arange(len(srfs)))])\n",
    "    b = xarray.DataArray(b, coords=[('band', np.arange(len(srfs)))])\n",
    "    return xarray.Dataset({'a':a, 'b':b}), raw_out"
   ]
  },
  {
   "cell_type": "code",
   "execution_count": 139,
   "id": "0cc12e3e-5b1f-4893-8f30-8476f2161bbf",
   "metadata": {},
   "outputs": [],
   "source": [
    "def elliptical_orbit_correction(doy):\n",
    "    C0 = .03275104\n",
    "    C1 = 59.66638337\n",
    "    C2 = .96804905\n",
    "    return C0 * np.cos(doy/C1) + C2\n",
    "\n",
    "# dark region is defined spatially\n",
    "dark_region_mask = xarray.zeros_like(sensor_output.isel(band=0)).astype(bool)\n",
    "dark_region_mask[50:60, 50:60] = 1"
   ]
  },
  {
   "cell_type": "code",
   "execution_count": 140,
   "id": "5fd000d5-4b43-4d36-835c-136b887ec471",
   "metadata": {},
   "outputs": [],
   "source": [
    "atmos_cor = generate_mk_test_sixs()"
   ]
  },
  {
   "cell_type": "code",
   "execution_count": 141,
   "id": "938f8839-53ce-45bf-83b9-3b5bd0d7f85c",
   "metadata": {},
   "outputs": [],
   "source": [
    "coefs_cor, raw_6sv_outputs = generate_correction_LUT(atmos_cor, spectral.TreeView_3())"
   ]
  },
  {
   "cell_type": "code",
   "execution_count": null,
   "id": "aa06e32d-2f60-4757-9dda-61c5c96c4570",
   "metadata": {},
   "outputs": [],
   "source": []
  },
  {
   "cell_type": "code",
   "execution_count": null,
   "id": "2cf806c9-8224-4ec6-873d-03f32a426263",
   "metadata": {},
   "outputs": [],
   "source": []
  },
  {
   "cell_type": "code",
   "execution_count": 132,
   "id": "64961d18-db3d-4ebc-8816-a996c9b6b9e1",
   "metadata": {},
   "outputs": [],
   "source": [
    "d174_c = elliptical_orbit_correction(174)\n",
    "corrected = ((d174_c**2 * sensor_output_radiance) - coefs_cor['a']) / coefs_cor['b']"
   ]
  },
  {
   "cell_type": "code",
   "execution_count": 133,
   "id": "47af8e4c-ea4c-4bde-89e1-911803b9d912",
   "metadata": {},
   "outputs": [],
   "source": [
    "obs_df = corrected.where(~dark_region_mask).stack({'pix': ['y', 'x']}).to_dataframe(name='observed')"
   ]
  },
  {
   "cell_type": "code",
   "execution_count": 134,
   "id": "3013a438-bd5c-449c-a510-8dfe19f8d12c",
   "metadata": {},
   "outputs": [],
   "source": [
    "exp_df = (sensor_equiv_reflectance / bw).where(~dark_region_mask).stack({'pix': ['y', 'x']}).to_dataframe(name='expected')"
   ]
  },
  {
   "cell_type": "code",
   "execution_count": 135,
   "id": "c6b47d75-9ef4-4a60-869a-3df0223450ff",
   "metadata": {},
   "outputs": [],
   "source": [
    "obs_df['expected'] = exp_df['expected']"
   ]
  },
  {
   "cell_type": "code",
   "execution_count": 136,
   "id": "504720cf-8953-4a77-8158-1d73f3abfc6e",
   "metadata": {},
   "outputs": [],
   "source": [
    "import seaborn"
   ]
  },
  {
   "cell_type": "code",
   "execution_count": 137,
   "id": "d8453f2d-3d29-47da-8a17-db22e530ad34",
   "metadata": {},
   "outputs": [
    {
     "data": {
      "text/plain": [
       "<seaborn.axisgrid.FacetGrid at 0x7f4ea51c1160>"
      ]
     },
     "execution_count": 137,
     "metadata": {},
     "output_type": "execute_result"
    },
    {
     "data": {
      "image/png": "[encoded data removed]",
      "text/plain": [
       "<Figure size 402.375x360 with 1 Axes>"
      ]
     },
     "metadata": {
      "needs_background": "light"
     },
     "output_type": "display_data"
    }
   ],
   "source": [
    "seaborn.relplot(data=obs_df, x='observed', y='expected', hue='band')"
   ]
  },
  {
   "cell_type": "code",
   "execution_count": 126,
   "id": "4bd967ea-2ab6-48d6-a40a-2669122223b6",
   "metadata": {},
   "outputs": [
    {
     "data": {
      "text/plain": [
       "<xarray.plot.facetgrid.FacetGrid at 0x7f4e8765a8e0>"
      ]
     },
     "execution_count": 126,
     "metadata": {},
     "output_type": "execute_result"
    },
    {
     "data": {
      "image/png": "[encoded data removed]",
      "text/plain": [
       "<Figure size 1800x216 with 9 Axes>"
      ]
     },
     "metadata": {
      "needs_background": "light"
     },
     "output_type": "display_data"
    }
   ],
   "source": [
    "bw = xarray.DataArray([20, 50, 50, 40, 40, 14, 14, 30], coords={'band': np.arange(8)})\n",
    "(sensor_equiv_reflectance / bw).plot(col='band',vmin=0, vmax=.6)"
   ]
  },
  {
   "cell_type": "code",
   "execution_count": 148,
   "id": "2f23c0b9-41fc-447f-9cf9-e1c2fe020774",
   "metadata": {},
   "outputs": [
    {
     "data": {
      "text/plain": [
       "1.28"
      ]
     },
     "execution_count": 148,
     "metadata": {},
     "output_type": "execute_result"
    }
   ],
   "source": [
    "8000 * 10000 * 8 * 1e-9 * 2"
   ]
  },
  {
   "cell_type": "code",
   "execution_count": 144,
   "id": "a1d89266-83c1-4b61-995d-2f3ad77b1c52",
   "metadata": {},
   "outputs": [
    {
     "data": {
      "text/html": [
       "<div><svg style=\"position: absolute; width: 0; height: 0; overflow: hidden\">\n",
       "<defs>\n",
       "<symbol id=\"icon-database\" viewBox=\"0 0 32 32\">\n",
       "<path d=\"M16 0c-8.837 0-16 2.239-16 5v4c0 2.761 7.163 5 16 5s16-2.239 16-5v-4c0-2.761-7.163-5-16-5z\"></path>\n",
       "<path d=\"M16 17c-8.837 0-16-2.239-16-5v6c0 2.761 7.163 5 16 5s16-2.239 16-5v-6c0 2.761-7.163 5-16 5z\"></path>\n",
       "<path d=\"M16 26c-8.837 0-16-2.239-16-5v6c0 2.761 7.163 5 16 5s16-2.239 16-5v-6c0 2.761-7.163 5-16 5z\"></path>\n",
       "</symbol>\n",
       "<symbol id=\"icon-file-text2\" viewBox=\"0 0 32 32\">\n",
       "<path d=\"M28.681 7.159c-0.694-0.947-1.662-2.053-2.724-3.116s-2.169-2.030-3.116-2.724c-1.612-1.182-2.393-1.319-2.841-1.319h-15.5c-1.378 0-2.5 1.121-2.5 2.5v27c0 1.378 1.122 2.5 2.5 2.5h23c1.378 0 2.5-1.122 2.5-2.5v-19.5c0-0.448-0.137-1.23-1.319-2.841zM24.543 5.457c0.959 0.959 1.712 1.825 2.268 2.543h-4.811v-4.811c0.718 0.556 1.584 1.309 2.543 2.268zM28 29.5c0 0.271-0.229 0.5-0.5 0.5h-23c-0.271 0-0.5-0.229-0.5-0.5v-27c0-0.271 0.229-0.5 0.5-0.5 0 0 15.499-0 15.5 0v7c0 0.552 0.448 1 1 1h7v19.5z\"></path>\n",
       "<path d=\"M23 26h-14c-0.552 0-1-0.448-1-1s0.448-1 1-1h14c0.552 0 1 0.448 1 1s-0.448 1-1 1z\"></path>\n",
       "<path d=\"M23 22h-14c-0.552 0-1-0.448-1-1s0.448-1 1-1h14c0.552 0 1 0.448 1 1s-0.448 1-1 1z\"></path>\n",
       "<path d=\"M23 18h-14c-0.552 0-1-0.448-1-1s0.448-1 1-1h14c0.552 0 1 0.448 1 1s-0.448 1-1 1z\"></path>\n",
       "</symbol>\n",
       "</defs>\n",
       "</svg>\n",
       "<style>/* CSS stylesheet for displaying xarray objects in jupyterlab.\n",
       " *\n",
       " */\n",
       "\n",
       ":root {\n",
       "  --xr-font-color0: var(--jp-content-font-color0, rgba(0, 0, 0, 1));\n",
       "  --xr-font-color2: var(--jp-content-font-color2, rgba(0, 0, 0, 0.54));\n",
       "  --xr-font-color3: var(--jp-content-font-color3, rgba(0, 0, 0, 0.38));\n",
       "  --xr-border-color: var(--jp-border-color2, #e0e0e0);\n",
       "  --xr-disabled-color: var(--jp-layout-color3, #bdbdbd);\n",
       "  --xr-background-color: var(--jp-layout-color0, white);\n",
       "  --xr-background-color-row-even: var(--jp-layout-color1, white);\n",
       "  --xr-background-color-row-odd: var(--jp-layout-color2, #eeeeee);\n",
       "}\n",
       "\n",
       "html[theme=dark],\n",
       "body.vscode-dark {\n",
       "  --xr-font-color0: rgba(255, 255, 255, 1);\n",
       "  --xr-font-color2: rgba(255, 255, 255, 0.54);\n",
       "  --xr-font-color3: rgba(255, 255, 255, 0.38);\n",
       "  --xr-border-color: #1F1F1F;\n",
       "  --xr-disabled-color: #515151;\n",
       "  --xr-background-color: #111111;\n",
       "  --xr-background-color-row-even: #111111;\n",
       "  --xr-background-color-row-odd: #313131;\n",
       "}\n",
       "\n",
       ".xr-wrap {\n",
       "  display: block;\n",
       "  min-width: 300px;\n",
       "  max-width: 700px;\n",
       "}\n",
       "\n",
       ".xr-text-repr-fallback {\n",
       "  /* fallback to plain text repr when CSS is not injected (untrusted notebook) */\n",
       "  display: none;\n",
       "}\n",
       "\n",
       ".xr-header {\n",
       "  padding-top: 6px;\n",
       "  padding-bottom: 6px;\n",
       "  margin-bottom: 4px;\n",
       "  border-bottom: solid 1px var(--xr-border-color);\n",
       "}\n",
       "\n",
       ".xr-header > div,\n",
       ".xr-header > ul {\n",
       "  display: inline;\n",
       "  margin-top: 0;\n",
       "  margin-bottom: 0;\n",
       "}\n",
       "\n",
       ".xr-obj-type,\n",
       ".xr-array-name {\n",
       "  margin-left: 2px;\n",
       "  margin-right: 10px;\n",
       "}\n",
       "\n",
       ".xr-obj-type {\n",
       "  color: var(--xr-font-color2);\n",
       "}\n",
       "\n",
       ".xr-sections {\n",
       "  padding-left: 0 !important;\n",
       "  display: grid;\n",
       "  grid-template-columns: 150px auto auto 1fr 20px 20px;\n",
       "}\n",
       "\n",
       ".xr-section-item {\n",
       "  display: contents;\n",
       "}\n",
       "\n",
       ".xr-section-item input {\n",
       "  display: none;\n",
       "}\n",
       "\n",
       ".xr-section-item input + label {\n",
       "  color: var(--xr-disabled-color);\n",
       "}\n",
       "\n",
       ".xr-section-item input:enabled + label {\n",
       "  cursor: pointer;\n",
       "  color: var(--xr-font-color2);\n",
       "}\n",
       "\n",
       ".xr-section-item input:enabled + label:hover {\n",
       "  color: var(--xr-font-color0);\n",
       "}\n",
       "\n",
       ".xr-section-summary {\n",
       "  grid-column: 1;\n",
       "  color: var(--xr-font-color2);\n",
       "  font-weight: 500;\n",
       "}\n",
       "\n",
       ".xr-section-summary > span {\n",
       "  display: inline-block;\n",
       "  padding-left: 0.5em;\n",
       "}\n",
       "\n",
       ".xr-section-summary-in:disabled + label {\n",
       "  color: var(--xr-font-color2);\n",
       "}\n",
       "\n",
       ".xr-section-summary-in + label:before {\n",
       "  display: inline-block;\n",
       "  content: '►';\n",
       "  font-size: 11px;\n",
       "  width: 15px;\n",
       "  text-align: center;\n",
       "}\n",
       "\n",
       ".xr-section-summary-in:disabled + label:before {\n",
       "  color: var(--xr-disabled-color);\n",
       "}\n",
       "\n",
       ".xr-section-summary-in:checked + label:before {\n",
       "  content: '▼';\n",
       "}\n",
       "\n",
       ".xr-section-summary-in:checked + label > span {\n",
       "  display: none;\n",
       "}\n",
       "\n",
       ".xr-section-summary,\n",
       ".xr-section-inline-details {\n",
       "  padding-top: 4px;\n",
       "  padding-bottom: 4px;\n",
       "}\n",
       "\n",
       ".xr-section-inline-details {\n",
       "  grid-column: 2 / -1;\n",
       "}\n",
       "\n",
       ".xr-section-details {\n",
       "  display: none;\n",
       "  grid-column: 1 / -1;\n",
       "  margin-bottom: 5px;\n",
       "}\n",
       "\n",
       ".xr-section-summary-in:checked ~ .xr-section-details {\n",
       "  display: contents;\n",
       "}\n",
       "\n",
       ".xr-array-wrap {\n",
       "  grid-column: 1 / -1;\n",
       "  display: grid;\n",
       "  grid-template-columns: 20px auto;\n",
       "}\n",
       "\n",
       ".xr-array-wrap > label {\n",
       "  grid-column: 1;\n",
       "  vertical-align: top;\n",
       "}\n",
       "\n",
       ".xr-preview {\n",
       "  color: var(--xr-font-color3);\n",
       "}\n",
       "\n",
       ".xr-array-preview,\n",
       ".xr-array-data {\n",
       "  padding: 0 5px !important;\n",
       "  grid-column: 2;\n",
       "}\n",
       "\n",
       ".xr-array-data,\n",
       ".xr-array-in:checked ~ .xr-array-preview {\n",
       "  display: none;\n",
       "}\n",
       "\n",
       ".xr-array-in:checked ~ .xr-array-data,\n",
       ".xr-array-preview {\n",
       "  display: inline-block;\n",
       "}\n",
       "\n",
       ".xr-dim-list {\n",
       "  display: inline-block !important;\n",
       "  list-style: none;\n",
       "  padding: 0 !important;\n",
       "  margin: 0;\n",
       "}\n",
       "\n",
       ".xr-dim-list li {\n",
       "  display: inline-block;\n",
       "  padding: 0;\n",
       "  margin: 0;\n",
       "}\n",
       "\n",
       ".xr-dim-list:before {\n",
       "  content: '(';\n",
       "}\n",
       "\n",
       ".xr-dim-list:after {\n",
       "  content: ')';\n",
       "}\n",
       "\n",
       ".xr-dim-list li:not(:last-child):after {\n",
       "  content: ',';\n",
       "  padding-right: 5px;\n",
       "}\n",
       "\n",
       ".xr-has-index {\n",
       "  font-weight: bold;\n",
       "}\n",
       "\n",
       ".xr-var-list,\n",
       ".xr-var-item {\n",
       "  display: contents;\n",
       "}\n",
       "\n",
       ".xr-var-item > div,\n",
       ".xr-var-item label,\n",
       ".xr-var-item > .xr-var-name span {\n",
       "  background-color: var(--xr-background-color-row-even);\n",
       "  margin-bottom: 0;\n",
       "}\n",
       "\n",
       ".xr-var-item > .xr-var-name:hover span {\n",
       "  padding-right: 5px;\n",
       "}\n",
       "\n",
       ".xr-var-list > li:nth-child(odd) > div,\n",
       ".xr-var-list > li:nth-child(odd) > label,\n",
       ".xr-var-list > li:nth-child(odd) > .xr-var-name span {\n",
       "  background-color: var(--xr-background-color-row-odd);\n",
       "}\n",
       "\n",
       ".xr-var-name {\n",
       "  grid-column: 1;\n",
       "}\n",
       "\n",
       ".xr-var-dims {\n",
       "  grid-column: 2;\n",
       "}\n",
       "\n",
       ".xr-var-dtype {\n",
       "  grid-column: 3;\n",
       "  text-align: right;\n",
       "  color: var(--xr-font-color2);\n",
       "}\n",
       "\n",
       ".xr-var-preview {\n",
       "  grid-column: 4;\n",
       "}\n",
       "\n",
       ".xr-var-name,\n",
       ".xr-var-dims,\n",
       ".xr-var-dtype,\n",
       ".xr-preview,\n",
       ".xr-attrs dt {\n",
       "  white-space: nowrap;\n",
       "  overflow: hidden;\n",
       "  text-overflow: ellipsis;\n",
       "  padding-right: 10px;\n",
       "}\n",
       "\n",
       ".xr-var-name:hover,\n",
       ".xr-var-dims:hover,\n",
       ".xr-var-dtype:hover,\n",
       ".xr-attrs dt:hover {\n",
       "  overflow: visible;\n",
       "  width: auto;\n",
       "  z-index: 1;\n",
       "}\n",
       "\n",
       ".xr-var-attrs,\n",
       ".xr-var-data {\n",
       "  display: none;\n",
       "  background-color: var(--xr-background-color) !important;\n",
       "  padding-bottom: 5px !important;\n",
       "}\n",
       "\n",
       ".xr-var-attrs-in:checked ~ .xr-var-attrs,\n",
       ".xr-var-data-in:checked ~ .xr-var-data {\n",
       "  display: block;\n",
       "}\n",
       "\n",
       ".xr-var-data > table {\n",
       "  float: right;\n",
       "}\n",
       "\n",
       ".xr-var-name span,\n",
       ".xr-var-data,\n",
       ".xr-attrs {\n",
       "  padding-left: 25px !important;\n",
       "}\n",
       "\n",
       ".xr-attrs,\n",
       ".xr-var-attrs,\n",
       ".xr-var-data {\n",
       "  grid-column: 1 / -1;\n",
       "}\n",
       "\n",
       "dl.xr-attrs {\n",
       "  padding: 0;\n",
       "  margin: 0;\n",
       "  display: grid;\n",
       "  grid-template-columns: 125px auto;\n",
       "}\n",
       "\n",
       ".xr-attrs dt,\n",
       ".xr-attrs dd {\n",
       "  padding: 0;\n",
       "  margin: 0;\n",
       "  float: left;\n",
       "  padding-right: 10px;\n",
       "  width: auto;\n",
       "}\n",
       "\n",
       ".xr-attrs dt {\n",
       "  font-weight: normal;\n",
       "  grid-column: 1;\n",
       "}\n",
       "\n",
       ".xr-attrs dt:hover span {\n",
       "  display: inline-block;\n",
       "  background: var(--xr-background-color);\n",
       "  padding-right: 10px;\n",
       "}\n",
       "\n",
       ".xr-attrs dd {\n",
       "  grid-column: 2;\n",
       "  white-space: pre-wrap;\n",
       "  word-break: break-all;\n",
       "}\n",
       "\n",
       ".xr-icon-database,\n",
       ".xr-icon-file-text2 {\n",
       "  display: inline-block;\n",
       "  vertical-align: middle;\n",
       "  width: 1em;\n",
       "  height: 1.5em !important;\n",
       "  stroke-width: 0;\n",
       "  stroke: currentColor;\n",
       "  fill: currentColor;\n",
       "}\n",
       "</style><pre class='xr-text-repr-fallback'>&lt;xarray.DataArray &#x27;Reflectance&#x27; (wavelength: 1, y: 362, x: 362)&gt;\n",
       "array([[[0.0256, 0.0308, 0.0306, ..., 0.    , 0.    , 0.    ],\n",
       "        [0.0335, 0.0185, 0.0177, ..., 0.    , 0.    , 0.    ],\n",
       "        [0.0335, 0.0496, 0.0627, ..., 0.    , 0.    , 0.    ],\n",
       "        ...,\n",
       "        [0.013 , 0.0174, 0.0209, ..., 0.045 , 0.0153, 0.0103],\n",
       "        [0.0144, 0.019 , 0.016 , ..., 0.0526, 0.017 , 0.0115],\n",
       "        [0.0143, 0.0179, 0.0172, ..., 0.0287, 0.0139, 0.0092]]])\n",
       "Coordinates:\n",
       "    band        (wavelength) int64 12\n",
       "  * y           (y) float64 5.766e+06 5.766e+06 ... 5.766e+06 5.766e+06\n",
       "  * x           (x) float64 6.513e+05 6.513e+05 ... 6.514e+05 6.514e+05\n",
       "    fwhm        (wavelength) float64 4.5\n",
       "  * wavelength  (wavelength) float64 445.0</pre><div class='xr-wrap' hidden><div class='xr-header'><div class='xr-obj-type'>xarray.DataArray</div><div class='xr-array-name'>'Reflectance'</div><ul class='xr-dim-list'><li><span class='xr-has-index'>wavelength</span>: 1</li><li><span class='xr-has-index'>y</span>: 362</li><li><span class='xr-has-index'>x</span>: 362</li></ul></div><ul class='xr-sections'><li class='xr-section-item'><div class='xr-array-wrap'><input id='section-a8a5cdc4-6847-4a94-8121-c92635e544cb' class='xr-array-in' type='checkbox' checked><label for='section-a8a5cdc4-6847-4a94-8121-c92635e544cb' title='Show/hide data repr'><svg class='icon xr-icon-database'><use xlink:href='#icon-database'></use></svg></label><div class='xr-array-preview xr-preview'><span>0.0256 0.0308 0.0306 0.0383 0.0181 ... 0.0534 0.0287 0.0139 0.0092</span></div><div class='xr-array-data'><pre>array([[[0.0256, 0.0308, 0.0306, ..., 0.    , 0.    , 0.    ],\n",
       "        [0.0335, 0.0185, 0.0177, ..., 0.    , 0.    , 0.    ],\n",
       "        [0.0335, 0.0496, 0.0627, ..., 0.    , 0.    , 0.    ],\n",
       "        ...,\n",
       "        [0.013 , 0.0174, 0.0209, ..., 0.045 , 0.0153, 0.0103],\n",
       "        [0.0144, 0.019 , 0.016 , ..., 0.0526, 0.017 , 0.0115],\n",
       "        [0.0143, 0.0179, 0.0172, ..., 0.0287, 0.0139, 0.0092]]])</pre></div></div></li><li class='xr-section-item'><input id='section-9704337c-a109-4e51-b873-30300c3047a3' class='xr-section-summary-in' type='checkbox'  checked><label for='section-9704337c-a109-4e51-b873-30300c3047a3' class='xr-section-summary' >Coordinates: <span>(5)</span></label><div class='xr-section-inline-details'></div><div class='xr-section-details'><ul class='xr-var-list'><li class='xr-var-item'><div class='xr-var-name'><span>band</span></div><div class='xr-var-dims'>(wavelength)</div><div class='xr-var-dtype'>int64</div><div class='xr-var-preview xr-preview'>12</div><input id='attrs-a1dc67c0-359a-4870-9896-cedc2dbbe1da' class='xr-var-attrs-in' type='checkbox' disabled><label for='attrs-a1dc67c0-359a-4870-9896-cedc2dbbe1da' title='Show/Hide attributes'><svg class='icon xr-icon-file-text2'><use xlink:href='#icon-file-text2'></use></svg></label><input id='data-c8428061-520d-4f77-8cc9-d8205edc064b' class='xr-var-data-in' type='checkbox'><label for='data-c8428061-520d-4f77-8cc9-d8205edc064b' title='Show/Hide data repr'><svg class='icon xr-icon-database'><use xlink:href='#icon-database'></use></svg></label><div class='xr-var-attrs'><dl class='xr-attrs'></dl></div><div class='xr-var-data'><pre>array([12])</pre></div></li><li class='xr-var-item'><div class='xr-var-name'><span class='xr-has-index'>y</span></div><div class='xr-var-dims'>(y)</div><div class='xr-var-dtype'>float64</div><div class='xr-var-preview xr-preview'>5.766e+06 5.766e+06 ... 5.766e+06</div><input id='attrs-c33d1428-cb07-473e-a687-d4efe9986339' class='xr-var-attrs-in' type='checkbox' disabled><label for='attrs-c33d1428-cb07-473e-a687-d4efe9986339' title='Show/Hide attributes'><svg class='icon xr-icon-file-text2'><use xlink:href='#icon-file-text2'></use></svg></label><input id='data-5f4eff2b-91f8-4bf9-8549-be5081236a55' class='xr-var-data-in' type='checkbox'><label for='data-5f4eff2b-91f8-4bf9-8549-be5081236a55' title='Show/Hide data repr'><svg class='icon xr-icon-database'><use xlink:href='#icon-database'></use></svg></label><div class='xr-var-attrs'><dl class='xr-attrs'></dl></div><div class='xr-var-data'><pre>array([5766054.06, 5766053.73, 5766053.4 , ..., 5765935.59, 5765935.26,\n",
       "       5765934.93])</pre></div></li><li class='xr-var-item'><div class='xr-var-name'><span class='xr-has-index'>x</span></div><div class='xr-var-dims'>(x)</div><div class='xr-var-dtype'>float64</div><div class='xr-var-preview xr-preview'>6.513e+05 6.513e+05 ... 6.514e+05</div><input id='attrs-23255528-cf43-41b9-97b2-7356b5203b39' class='xr-var-attrs-in' type='checkbox' disabled><label for='attrs-23255528-cf43-41b9-97b2-7356b5203b39' title='Show/Hide attributes'><svg class='icon xr-icon-file-text2'><use xlink:href='#icon-file-text2'></use></svg></label><input id='data-3f5f1722-267a-4855-a549-6d8c662e9bc1' class='xr-var-data-in' type='checkbox'><label for='data-3f5f1722-267a-4855-a549-6d8c662e9bc1' title='Show/Hide data repr'><svg class='icon xr-icon-database'><use xlink:href='#icon-database'></use></svg></label><div class='xr-var-attrs'><dl class='xr-attrs'></dl></div><div class='xr-var-data'><pre>array([651276.17, 651276.5 , 651276.83, ..., 651394.64, 651394.97, 651395.3 ])</pre></div></li><li class='xr-var-item'><div class='xr-var-name'><span>fwhm</span></div><div class='xr-var-dims'>(wavelength)</div><div class='xr-var-dtype'>float64</div><div class='xr-var-preview xr-preview'>4.5</div><input id='attrs-0b72eef2-8798-49ca-a8d8-ff728f704e61' class='xr-var-attrs-in' type='checkbox' disabled><label for='attrs-0b72eef2-8798-49ca-a8d8-ff728f704e61' title='Show/Hide attributes'><svg class='icon xr-icon-file-text2'><use xlink:href='#icon-file-text2'></use></svg></label><input id='data-18b726e1-6c16-4573-ac74-a7774b502804' class='xr-var-data-in' type='checkbox'><label for='data-18b726e1-6c16-4573-ac74-a7774b502804' title='Show/Hide data repr'><svg class='icon xr-icon-database'><use xlink:href='#icon-database'></use></svg></label><div class='xr-var-attrs'><dl class='xr-attrs'></dl></div><div class='xr-var-data'><pre>array([4.5])</pre></div></li><li class='xr-var-item'><div class='xr-var-name'><span class='xr-has-index'>wavelength</span></div><div class='xr-var-dims'>(wavelength)</div><div class='xr-var-dtype'>float64</div><div class='xr-var-preview xr-preview'>445.0</div><input id='attrs-83573a3c-56b7-450e-9122-6f4e40a913d1' class='xr-var-attrs-in' type='checkbox' disabled><label for='attrs-83573a3c-56b7-450e-9122-6f4e40a913d1' title='Show/Hide attributes'><svg class='icon xr-icon-file-text2'><use xlink:href='#icon-file-text2'></use></svg></label><input id='data-1bd939b6-216d-45b4-a033-55d5fdc6d849' class='xr-var-data-in' type='checkbox'><label for='data-1bd939b6-216d-45b4-a033-55d5fdc6d849' title='Show/Hide data repr'><svg class='icon xr-icon-database'><use xlink:href='#icon-database'></use></svg></label><div class='xr-var-attrs'><dl class='xr-attrs'></dl></div><div class='xr-var-data'><pre>array([445.])</pre></div></li></ul></div></li><li class='xr-section-item'><input id='section-721cef56-179a-4659-878b-374d46baad95' class='xr-section-summary-in' type='checkbox' disabled ><label for='section-721cef56-179a-4659-878b-374d46baad95' class='xr-section-summary'  title='Expand/collapse section'>Attributes: <span>(0)</span></label><div class='xr-section-inline-details'></div><div class='xr-section-details'><dl class='xr-attrs'></dl></div></li></ul></div></div>"
      ],
      "text/plain": [
       "<xarray.DataArray 'Reflectance' (wavelength: 1, y: 362, x: 362)>\n",
       "array([[[0.0256, 0.0308, 0.0306, ..., 0.    , 0.    , 0.    ],\n",
       "        [0.0335, 0.0185, 0.0177, ..., 0.    , 0.    , 0.    ],\n",
       "        [0.0335, 0.0496, 0.0627, ..., 0.    , 0.    , 0.    ],\n",
       "        ...,\n",
       "        [0.013 , 0.0174, 0.0209, ..., 0.045 , 0.0153, 0.0103],\n",
       "        [0.0144, 0.019 , 0.016 , ..., 0.0526, 0.017 , 0.0115],\n",
       "        [0.0143, 0.0179, 0.0172, ..., 0.0287, 0.0139, 0.0092]]])\n",
       "Coordinates:\n",
       "    band        (wavelength) int64 12\n",
       "  * y           (y) float64 5.766e+06 5.766e+06 ... 5.766e+06 5.766e+06\n",
       "  * x           (x) float64 6.513e+05 6.513e+05 ... 6.514e+05 6.514e+05\n",
       "    fwhm        (wavelength) float64 4.5\n",
       "  * wavelength  (wavelength) float64 445.0"
      ]
     },
     "execution_count": 144,
     "metadata": {},
     "output_type": "execute_result"
    }
   ],
   "source": [
    "surface_reflectance.sel(wavelength=[445], method='nearest')"
   ]
  },
  {
   "cell_type": "code",
   "execution_count": 127,
   "id": "97735816-fcc0-4de2-b8e9-aded770f371e",
   "metadata": {},
   "outputs": [
    {
     "data": {
      "text/plain": [
       "<xarray.plot.facetgrid.FacetGrid at 0x7f4e3411ee50>"
      ]
     },
     "execution_count": 127,
     "metadata": {},
     "output_type": "execute_result"
    },
    {
     "data": {
      "image/png": "[encoded data removed]",
      "text/plain": [
       "<Figure size 1800x216 with 9 Axes>"
      ]
     },
     "metadata": {
      "needs_background": "light"
     },
     "output_type": "display_data"
    }
   ],
   "source": [
    "corrected.plot(col='band',vmin=0, vmax=.6)"
   ]
  },
  {
   "cell_type": "code",
   "execution_count": 122,
   "id": "f2f592c7-d328-413d-a8e0-f1189443c575",
   "metadata": {},
   "outputs": [
    {
     "name": "stdout",
     "output_type": "stream",
     "text": [
      "\n",
      "\n",
      "\n",
      "\n",
      "\n",
      "******************************* 6SV version 1.1 *******************************\n",
      "*                                                                             *\n",
      "*                       geometrical conditions identity                       *\n",
      "*                       -------------------------------                       *\n",
      "*                       user defined conditions                               *\n",
      "*                                                                             *\n",
      "*   month:  6 day :  22                                                       *\n",
      "*   solar zenith angle:   33.29 deg  solar azimuthal angle:      140.73 deg   *\n",
      "*   view zenith angle:     0.00 deg  view azimuthal angle:         0.00 deg   *\n",
      "*   scattering angle:    146.71 deg  azimuthal angle difference: 140.73 deg   *\n",
      "*                                                                             *\n",
      "*                       atmospheric model description                         *\n",
      "*                       -----------------------------                         *\n",
      "*           atmospheric model identity :                                      *\n",
      "*               midlatitude summer  (uh2o=2.93g/cm2,uo3=.319cm-atm)           *\n",
      "*           aerosols type identity :                                          *\n",
      "*               Maritime aerosol model                                        *\n",
      "*           optical condition identity :                                      *\n",
      "*               visibility :  8.49 km  opt. thick. 550 nm :  0.5000           *\n",
      "*                                                                             *\n",
      "*                       spectral condition                                    *\n",
      "*                       ------------------                                    *\n",
      "*           user s                                                            *\n",
      "*               value of filter function :                                    *\n",
      "*                wl inf= 0.610 mic   wl sup= 0.650 mic                        *\n",
      "*                                                                             *\n",
      "*                       Surface polarization parameters                       *\n",
      "*                       ----------------------------------                    *\n",
      "*                                                                             *\n",
      "*                                                                             *\n",
      "* Surface Polarization Q,U,Rop,Chi    0.00000  0.00000  0.00000     0.00      *\n",
      "*                                                                             *\n",
      "*                                                                             *\n",
      "*                       target type                                           *\n",
      "*                       -----------                                           *\n",
      "*           homogeneous ground                                                *\n",
      "*             constant reflectance over the spectra  1.000                    *\n",
      "*                                                                             *\n",
      "*                       target elevation description                          *\n",
      "*                       ----------------------------                          *\n",
      "*           ground pressure  [mb] 1013.00                                     *\n",
      "*           ground altitude  [km] 0.000                                       *\n",
      "*                                                                             *\n",
      "*******************************************************************************\n",
      "\n",
      "\n",
      "\n",
      "*******************************************************************************\n",
      "*                                                                             *\n",
      "*                         integrated values of  :                             *\n",
      "*                         --------------------                                *\n",
      "*                                                                             *\n",
      "*       apparent reflectance  0.9653236  appar. rad.(w/m2/sr/mic)  414.442    *\n",
      "*                   total gaseous transmittance  0.927                        *\n",
      "*                                                                             *\n",
      "*******************************************************************************\n",
      "*                                                                             *\n",
      "*                         coupling aerosol -wv  :                             *\n",
      "*                         --------------------                                *\n",
      "*           wv above aerosol :   0.965     wv mixed with aerosol :   0.965    *\n",
      "*                       wv under aerosol :   0.966                            *\n",
      "*******************************************************************************\n",
      "*                                                                             *\n",
      "*                         integrated values of  :                             *\n",
      "*                         --------------------                                *\n",
      "*                                                                             *\n",
      "*       app. polarized refl.  0.0075    app. pol. rad. (w/m2/sr/mic)    0.129 *\n",
      "*             direction of the plane of polarization-50.73                    *\n",
      "*                   total polarization ratio     0.008                        *\n",
      "*                                                                             *\n",
      "*******************************************************************************\n",
      "*                                                                             *\n",
      "*                         int. normalized  values  of  :                      *\n",
      "*                         ---------------------------                         *\n",
      "*                      % of irradiance at ground level                        *\n",
      "*     % of direct  irr.    % of diffuse irr.    % of enviro. irr              *\n",
      "*               0.494               0.361               0.145                 *\n",
      "*                       reflectance at satellite level                        *\n",
      "*     atm. intrin. ref.   background  ref.  pixel  reflectance                *\n",
      "*               0.052               0.340               0.573                 *\n",
      "*                                                                             *\n",
      "*                         int. absolute values of                             *\n",
      "*                         -----------------------                             *\n",
      "*                      irr. at ground level (w/m2/mic)                        *\n",
      "*     direct solar irr.    atm. diffuse irr.    environment  irr              *\n",
      "*             678.249             495.339             198.893                 *\n",
      "*                      rad at satel. level (w/m2/sr/mic)                      *\n",
      "*     atm. intrin. rad.    background  rad.    pixel  radiance                *\n",
      "*              22.499             145.826             246.117                 *\n",
      "*                                                                             *\n",
      "*                                                                             *\n",
      "*          int. funct filter (in mic)              int. sol. spect (in w/m2)  *\n",
      "*             0.0400000                                  64.540               *\n",
      "*                                                                             *\n",
      "*******************************************************************************\n",
      " \n",
      "\n",
      "\n",
      "\n",
      "\n",
      "*******************************************************************************\n",
      "*                                                                             *\n",
      "*                          integrated values of  :                            *\n",
      "*                          --------------------                               *\n",
      "*                                                                             *\n",
      "*                             downward        upward          total           *\n",
      "*      global gas. trans. :     0.95897        0.96550        0.92673         *\n",
      "*      water   \"     \"    :     0.99458        0.99541        0.99065         *\n",
      "*      ozone   \"     \"    :     0.96514        0.97078        0.93697         *\n",
      "*      co2     \"     \"    :     1.00000        1.00000        1.00000         *\n",
      "*      oxyg    \"     \"    :     0.99905        0.99917        0.99849         *\n",
      "*      no2     \"     \"    :     1.00000        1.00000        1.00000         *\n",
      "*      ch4     \"     \"    :     1.00000        1.00000        1.00000         *\n",
      "*      co      \"     \"    :     1.00000        1.00000        1.00000         *\n",
      "*                                                                             *\n",
      "*                                                                             *\n",
      "*      rayl.  sca. trans. :     0.96710        0.97234        0.94035         *\n",
      "*      aeros. sca.   \"    :     0.93832        0.95551        0.89657         *\n",
      "*      total  sca.   \"    :     0.90734        0.92837        0.84234         *\n",
      "*                                                                             *\n",
      "*                                                                             *\n",
      "*                                                                             *\n",
      "*                             rayleigh       aerosols         total           *\n",
      "*                                                                             *\n",
      "*      spherical albedo   :     0.05049        0.11087        0.14492         *\n",
      "*      optical depth total:     0.05656        0.48311        0.53967         *\n",
      "*      optical depth plane:     0.05656        0.48311        0.53967         *\n",
      "*      reflectance I      :     0.02195        0.03460        0.05636         *\n",
      "*      reflectance Q      :    -0.00072       -0.00096       -0.00160         *\n",
      "*      reflectance U      :    -0.00355       -0.00472       -0.00790         *\n",
      "*      polarized reflect. :     0.00363        0.00481        0.00806         *\n",
      "*      degree of polar.   :       16.52          13.91          14.31         *\n",
      "*      dir. plane polar.  :      -50.77         -50.73         -50.73         *\n",
      "*      phase function I   :     1.26278        0.23141        0.33950         *\n",
      "*      phase function Q   :    -0.21659       -0.04725       -0.06499         *\n",
      "*      phase function U   :    -1.20215       -0.00634       -0.13166         *\n",
      "*      primary deg. of pol:    -0.17152       -0.20417       -0.19144         *\n",
      "*      sing. scat. albedo :     1.00000        0.98948        0.99058         *\n",
      "*                                                                             *\n",
      "*                                                                             *\n",
      "*******************************************************************************\n",
      "\n"
     ]
    }
   ],
   "source": [
    "print(raw_6sv_outputs[3])"
   ]
  },
  {
   "cell_type": "code",
   "execution_count": 123,
   "id": "c4901c8d-a122-4875-8475-9e4760a40972",
   "metadata": {},
   "outputs": [
    {
     "data": {
      "text/plain": [
       "<matplotlib.collections.PathCollection at 0x7f4e8752bf10>"
      ]
     },
     "execution_count": 123,
     "metadata": {},
     "output_type": "execute_result"
    },
    {
     "data": {
      "image/png": "[encoded data removed]",
      "text/plain": [
       "<Figure size 432x288 with 1 Axes>"
      ]
     },
     "metadata": {
      "needs_background": "light"
     },
     "output_type": "display_data"
    }
   ],
   "source": [
    "plt.scatter(\n",
    "    sensor_equiv_reflectance.isel(band=0).values.ravel(),\n",
    "    corrected.isel(band=0).values.ravel())"
   ]
  },
  {
   "cell_type": "code",
   "execution_count": 124,
   "id": "0801c18d-5c12-4619-8c0c-b0e0d2b9b895",
   "metadata": {},
   "outputs": [
    {
     "data": {
      "text/plain": [
       "<matplotlib.collections.PathCollection at 0x7f4ea5c393d0>"
      ]
     },
     "execution_count": 124,
     "metadata": {},
     "output_type": "execute_result"
    },
    {
     "data": {
      "image/png": "[encoded data removed]",
      "text/plain": [
       "<Figure size 432x288 with 1 Axes>"
      ]
     },
     "metadata": {
      "needs_background": "light"
     },
     "output_type": "display_data"
    }
   ],
   "source": [
    "plt.scatter(\n",
    "    sensor_output_radiance.isel(band=0).values.ravel(),\n",
    "    sensor_equiv_radiance.isel(band=0).values.ravel(), alpha=.1)"
   ]
  },
  {
   "cell_type": "code",
   "execution_count": 125,
   "id": "23ed21d0-80ae-4ff8-87e6-12d433fbafe1",
   "metadata": {},
   "outputs": [
    {
     "data": {
      "text/plain": [
       "<matplotlib.collections.QuadMesh at 0x7f4e8786a040>"
      ]
     },
     "execution_count": 125,
     "metadata": {},
     "output_type": "execute_result"
    },
    {
     "data": {
      "image/png": "[encoded data removed]",
      "text/plain": [
       "<Figure size 432x288 with 2 Axes>"
      ]
     },
     "metadata": {
      "needs_background": "light"
     },
     "output_type": "display_data"
    }
   ],
   "source": [
    "corrected.isel(band=6).plot(vmin=0)"
   ]
  },
  {
   "cell_type": "code",
   "execution_count": null,
   "id": "7c5e1192-2ec9-40ab-b904-01d9199338a5",
   "metadata": {},
   "outputs": [],
   "source": []
  },
  {
   "cell_type": "code",
   "execution_count": null,
   "id": "96eac8c1-b59c-47f6-87ef-09115f17cd32",
   "metadata": {},
   "outputs": [],
   "source": [
    "sol_1 = load_solar_et_spectrum('solar_irradiance/e490_00a_amo.xls')\n",
    "F0 = compute_band_extraterrestrial_E(sensor.TreeView_3().srfs, sol_1 , 174)"
   ]
  },
  {
   "cell_type": "code",
   "execution_count": null,
   "id": "3761ca2f-9fb2-442b-8f48-c8d77bf89ae3",
   "metadata": {},
   "outputs": [],
   "source": [
    "F0.plot()"
   ]
  },
  {
   "cell_type": "code",
   "execution_count": null,
   "id": "ce8ee747-2a7b-4b7b-884c-22612eed95ee",
   "metadata": {},
   "outputs": [],
   "source": [
    "sensor_output_reflectance = radiance_to_reflectance(sensor_output_radiance, 33, F0)"
   ]
  },
  {
   "cell_type": "code",
   "execution_count": null,
   "id": "6de97c1a-038f-40b3-b1ef-da1b8065ea5b",
   "metadata": {},
   "outputs": [],
   "source": [
    "sensor_output_radiance"
   ]
  },
  {
   "cell_type": "code",
   "execution_count": null,
   "id": "bc4f5978-2c73-480d-9ef0-13400ae9ab66",
   "metadata": {},
   "outputs": [],
   "source": [
    "sensor_output_radiance.plot(col='band', col_wrap=3,vmin=0)"
   ]
  },
  {
   "cell_type": "code",
   "execution_count": null,
   "id": "8e176c64-015c-4b00-9725-8cf16ba9d866",
   "metadata": {},
   "outputs": [],
   "source": [
    "dark_region_mask.plot()"
   ]
  },
  {
   "cell_type": "code",
   "execution_count": null,
   "id": "4481ee4c-3b82-4646-9b4b-e3b2288d0b02",
   "metadata": {},
   "outputs": [],
   "source": [
    "df_sensor_rad = sensor_output_radiance.stack({'pix':['y', 'x']}).to_pandas().T"
   ]
  },
  {
   "cell_type": "code",
   "execution_count": null,
   "id": "f191b256-ee7c-467a-8f07-6119da65e686",
   "metadata": {},
   "outputs": [],
   "source": [
    "df_sensor_ref = sensor_output_reflectance.stack({'pix':['y', 'x']}).to_pandas().T"
   ]
  },
  {
   "cell_type": "code",
   "execution_count": null,
   "id": "3269314e-10e8-4db5-92af-f279f1aa58da",
   "metadata": {},
   "outputs": [],
   "source": [
    "def tau(rho_ra):\n",
    "    return - np.log(1 - rho_ra)"
   ]
  },
  {
   "cell_type": "code",
   "execution_count": null,
   "id": "cd81d282-ccfe-4bf1-8d70-f90fb366228a",
   "metadata": {},
   "outputs": [],
   "source": [
    "plt.plot(np.linspace(0,1), tau(np.linspace(0,1)))\n",
    "plt.xlabel('Reflectance')\n",
    "plt.ylabel(r'$\\tau$')"
   ]
  },
  {
   "cell_type": "code",
   "execution_count": null,
   "id": "277d9fa6-92c9-4de5-a005-331a1c7def08",
   "metadata": {},
   "outputs": [],
   "source": [
    "\n",
    "\n",
    "# dark signal calculation region\n",
    "dark_signal_mask = xarray.zeros_like(sensor_output.isel(band=0)).astype(bool)\n",
    "dark_signal_mask[55:60, 55:60] = 1\n",
    "\n",
    "# saturation mask\n",
    "saturation_mask = sensor_output >= 2500"
   ]
  },
  {
   "cell_type": "code",
   "execution_count": null,
   "id": "6223c250-092b-489c-8397-734460874cb9",
   "metadata": {},
   "outputs": [],
   "source": [
    "sensor_output_reflectance.shape"
   ]
  },
  {
   "cell_type": "code",
   "execution_count": null,
   "id": "5e714f49-74f0-42da-9295-ab2e3b09808a",
   "metadata": {},
   "outputs": [],
   "source": [
    "sensor_output_reflectance.where(~dark_region_mask).min(['y', 'x']).plot()"
   ]
  },
  {
   "cell_type": "code",
   "execution_count": null,
   "id": "bb0ca99d-1a6a-4958-a8e9-13cf3945f008",
   "metadata": {},
   "outputs": [],
   "source": [
    "tau(sensor_output_reflectance.quantile(q= .01, dim=['y','x'])).plot()"
   ]
  },
  {
   "cell_type": "code",
   "execution_count": null,
   "id": "0deec849-ecf1-4646-97c2-154d5a0f65bd",
   "metadata": {},
   "outputs": [],
   "source": [
    "tau(sensor_output_reflectance).isel(band=0).plot.hist(bins=100)"
   ]
  },
  {
   "cell_type": "code",
   "execution_count": null,
   "id": "842d8a94-6d0e-4680-8a06-f96bbd302f57",
   "metadata": {},
   "outputs": [],
   "source": []
  },
  {
   "cell_type": "code",
   "execution_count": null,
   "id": "be590774-17d6-436d-b623-f8338eb13572",
   "metadata": {},
   "outputs": [],
   "source": []
  },
  {
   "cell_type": "code",
   "execution_count": null,
   "id": "9537fa1b-f15f-4942-93ac-9fd1ad341d04",
   "metadata": {},
   "outputs": [],
   "source": [
    "min_signals = sensor_output.where(~dark_region_mask).min(dim=['y','x']) -1"
   ]
  },
  {
   "cell_type": "code",
   "execution_count": null,
   "id": "c134414e-3901-4776-b11e-73f3e7ed6d19",
   "metadata": {},
   "outputs": [],
   "source": [
    "min_signals\n"
   ]
  },
  {
   "cell_type": "code",
   "execution_count": null,
   "id": "339ab8bd-9fde-40ac-8eda-dbeaf6a786ed",
   "metadata": {},
   "outputs": [],
   "source": [
    "sensor_output_reflectance.sum(['band'])"
   ]
  },
  {
   "cell_type": "code",
   "execution_count": null,
   "id": "2987cd18-b66d-4ce3-b600-076b45564f8b",
   "metadata": {},
   "outputs": [],
   "source": [
    "sensor_output_reflectance.where(~dark_region_mask).min(dim=['y','x']).plot()"
   ]
  },
  {
   "cell_type": "code",
   "execution_count": null,
   "id": "78c273f5-b2b1-4cdc-b547-e29665d72786",
   "metadata": {},
   "outputs": [],
   "source": [
    "dark_signal = sensor_output[:,50:60, 50:60].mean(['y', 'x'])"
   ]
  },
  {
   "cell_type": "code",
   "execution_count": null,
   "id": "2cce47be-b42a-4b7a-828d-f25bc63ef9a5",
   "metadata": {},
   "outputs": [],
   "source": [
    "sensor_output_radiance.isel(band=6).plot(vmin=0)"
   ]
  },
  {
   "cell_type": "code",
   "execution_count": null,
   "id": "8e91069d-030d-4927-ad6f-4b84867c7833",
   "metadata": {},
   "outputs": [],
   "source": []
  },
  {
   "cell_type": "code",
   "execution_count": null,
   "id": "d74b6146-31be-446f-878c-553e9ffba095",
   "metadata": {},
   "outputs": [],
   "source": [
    "missing_mask.plot(col='band', col_wrap=3)"
   ]
  },
  {
   "cell_type": "code",
   "execution_count": null,
   "id": "62f9bec5-e366-49bd-b97d-ba50cfbd2678",
   "metadata": {},
   "outputs": [],
   "source": [
    "saturation_mask.plot(col='band', col_wrap=3)"
   ]
  },
  {
   "cell_type": "code",
   "execution_count": null,
   "id": "85b71cf2-dfae-4eb1-9cff-981f4ff48424",
   "metadata": {},
   "outputs": [],
   "source": [
    "sensor_output.where(~missing_mask).min(dim=['y','x'])"
   ]
  },
  {
   "cell_type": "code",
   "execution_count": null,
   "id": "576b584a-9ab5-4355-949d-d2394ae53767",
   "metadata": {},
   "outputs": [],
   "source": []
  },
  {
   "cell_type": "code",
   "execution_count": null,
   "id": "39d56d58-8932-4b4f-86af-0d00c4353eeb",
   "metadata": {},
   "outputs": [],
   "source": [
    "atm = atmosphere.LUT_from_file('atmospheres/atmospheres_2/',)"
   ]
  },
  {
   "cell_type": "code",
   "execution_count": null,
   "id": "9a9c019a-082e-4ff6-aab6-e14edcbb77b4",
   "metadata": {},
   "outputs": [],
   "source": [
    "atm.LUT.s"
   ]
  },
  {
   "cell_type": "code",
   "execution_count": null,
   "id": "b4c55d61-c42a-4083-b56f-ac9653862fc9",
   "metadata": {},
   "outputs": [],
   "source": [
    "class _AtmosphericCorrection(object)"
   ]
  },
  {
   "cell_type": "code",
   "execution_count": null,
   "id": "516b1283-dd9e-4a0d-9bb0-5238fef89aa2",
   "metadata": {},
   "outputs": [],
   "source": [
    "atm.LUT.isel(scenario=0).interp(rho=[.1982, .2, .43334], wavelength=[493.224, 520]).drop_vars('rho')"
   ]
  },
  {
   "cell_type": "code",
   "execution_count": null,
   "id": "2a5d732e-a584-47e5-9836-1ece286d0f4d",
   "metadata": {},
   "outputs": [],
   "source": [
    "atm.LUT.where("
   ]
  },
  {
   "cell_type": "code",
   "execution_count": null,
   "id": "c6879e92-d576-447d-a5b7-4fbef50a9ee0",
   "metadata": {},
   "outputs": [],
   "source": [
    "atm.LUT.isel(scenario=0).interp(rho=[.1982, .2, .43334], wavelength=[493.224, 520]).drop_vars('rho')"
   ]
  },
  {
   "cell_type": "code",
   "execution_count": null,
   "id": "21205854-0699-4be1-ae0f-7aa64b53aacd",
   "metadata": {},
   "outputs": [],
   "source": [
    "atm.LUT.isel(scenario=0).sel(rho=[.1982, .2, .43334], wavelength=[493.224, 520], method='nearest').drop_vars('rho')"
   ]
  },
  {
   "cell_type": "code",
   "execution_count": null,
   "id": "9923ed7d-4fb6-49e7-bbe8-fd569b279f1c",
   "metadata": {},
   "outputs": [],
   "source": [
    "spectral.TreeView_3().to_6sv()"
   ]
  },
  {
   "cell_type": "code",
   "execution_count": null,
   "id": "53ea7f4f-338e-49f5-b6f1-c6d70dd35395",
   "metadata": {},
   "outputs": [],
   "source": [
    "SixSHelpers."
   ]
  },
  {
   "cell_type": "code",
   "execution_count": null,
   "id": "febd3b72-fd88-4616-98dd-a583f0354c74",
   "metadata": {},
   "outputs": [],
   "source": [
    "plt.plot(wavelengths, results)"
   ]
  },
  {
   "cell_type": "code",
   "execution_count": null,
   "id": "e38bc5df-7ee6-42ec-b7dc-e4eabfeb28b8",
   "metadata": {},
   "outputs": [],
   "source": [
    "from pyeosim.atmosphere import LUT"
   ]
  },
  {
   "cell_type": "code",
   "execution_count": null,
   "id": "fb574061-ec9d-407d-bd3f-5e5ac59c71de",
   "metadata": {},
   "outputs": [],
   "source": [
    "LUT()"
   ]
  },
  {
   "cell_type": "code",
   "execution_count": null,
   "id": "e22a18f3-5e7c-4d9e-a4ac-d6650f2b7961",
   "metadata": {},
   "outputs": [],
   "source": [
    "from pyeosim.spectral import TreeView_3"
   ]
  },
  {
   "cell_type": "code",
   "execution_count": null,
   "id": "3ebce878-6596-4f28-a3d0-b2ef6e043dd0",
   "metadata": {},
   "outputs": [],
   "source": [
    "tv_bandpass = spectral.TreeView_3()"
   ]
  },
  {
   "cell_type": "code",
   "execution_count": null,
   "id": "0efb0756-b428-4dd7-ba70-9dc50fd8d87a",
   "metadata": {},
   "outputs": [],
   "source": [
    "import numpy as np\n",
    "\n",
    "def convert_all_srfs(srfs):\n",
    "    def convert_srf(srf):\n",
    "        # converts an srf array\n",
    "        def get_min_max(srf):\n",
    "            wlens = srf.where(srf > 0).dropna('wavelength').wavelength\n",
    "            return float(wlens.min()), float(wlens.max())\n",
    "        def interp(min_wlen, max_wlen):\n",
    "            return np.arange(min_wlen, max_wlen+ 2.5, 2.5)\n",
    "        _min, _max = \n",
    "        wlen = interp(*get_min_max(srf))\n",
    "        wlen_mi = wlen /1000\n",
    "        return wlen_mi, srf.interp(wavelength=wlen)\n",
    "    \n",
    "    out = {}\n",
    "    for name, srf in srfs.items():\n",
    "        out[name] = convert_srf(srf)\n",
    "    \n",
    "    return out"
   ]
  },
  {
   "cell_type": "code",
   "execution_count": null,
   "id": "84bfab17-d086-4c69-ac4f-326ad85bb70a",
   "metadata": {},
   "outputs": [],
   "source": [
    "from pyeosim import _spectral"
   ]
  },
  {
   "cell_type": "code",
   "execution_count": null,
   "id": "1fdbafed-c22b-4205-9d7e-c511118dbf39",
   "metadata": {},
   "outputs": [],
   "source": [
    "_spectral._min_max(tv_bandpass.srfs['PRI_1'])"
   ]
  },
  {
   "cell_type": "code",
   "execution_count": null,
   "id": "ea941211-b138-41a6-9781-6db6226290ab",
   "metadata": {},
   "outputs": [],
   "source": [
    "convert_all_srfs(tv_bandpass.srfs)"
   ]
  },
  {
   "cell_type": "code",
   "execution_count": null,
   "id": "19cd4303-b28c-428c-8f32-28b6c9b2c6ae",
   "metadata": {},
   "outputs": [],
   "source": [
    "tv_bandpass.srfs['PRI_1'].where(tv_bandpass.srfs['PRI_1'] > 0).dropna('wavelength').wavelength"
   ]
  },
  {
   "cell_type": "code",
   "execution_count": null,
   "id": "986e0d2f-0aac-4053-8fb3-b401c2f2a3b8",
   "metadata": {},
   "outputs": [],
   "source": [
    "get_min_max(tv_bandpass.srfs['PRI_1'])"
   ]
  },
  {
   "cell_type": "code",
   "execution_count": null,
   "id": "cbbb636d-a88b-4672-bfa8-edcc3b89284b",
   "metadata": {},
   "outputs": [],
   "source": [
    "tv_bandpass.srfs['PRI_1']"
   ]
  },
  {
   "cell_type": "code",
   "execution_count": null,
   "id": "65a678d7-9c3d-4c54-ab21-de02ac1b7b5c",
   "metadata": {},
   "outputs": [],
   "source": [
    "import numpy as np\n",
    "\n",
    "def bandpass_6sv(central_wavelength, bandwidth):\n",
    "    \"\"\"\n",
    "    Parameters\n",
    "    ----------\n",
    "    central_wavelength : float\n",
    "        centre of bandpass in nm\n",
    "    bandwidth : float\n",
    "        bandwidth in nm    \n",
    "    \"\"\"\n",
    "    min_wlen = (central_wavelength - (bandwidth/2)) / 1000\n",
    "    max_wlen = (central_wavelength + (bandwidth/2)) / 1000\n",
    "    wlens = np.arange(min_wlen, max_wlen+ .0025, .0025)\n",
    "    return wlens, np.ones_like(wlens)"
   ]
  },
  {
   "cell_type": "code",
   "execution_count": null,
   "id": "94b639cd-a914-496c-9381-635c765635dd",
   "metadata": {},
   "outputs": [],
   "source": [
    "def bandpass_6sv(central_wavelength, bandwidth):\n",
    "    \"\"\"\n",
    "    Parameters\n",
    "    ----------\n",
    "    central_wavelength : float\n",
    "        centre of bandpass in nm\n",
    "    bandwidth : float\n",
    "        bandwidth in nm    \n",
    "    \"\"\"\n",
    "    min_wlen = (central_wavelength - (bandwidth/2)) / 1000\n",
    "    max_wlen = (central_wavelength + (bandwidth/2)) / 1000\n",
    "    wlens = np.arange(min_wlen, max_wlen+ .0025, .0025)\n",
    "    return wlens, np.ones_like(wlens)"
   ]
  },
  {
   "cell_type": "code",
   "execution_count": null,
   "id": "d6cd391c-80ed-457b-b927-e9fd8f867196",
   "metadata": {},
   "outputs": [],
   "source": [
    "spe"
   ]
  },
  {
   "cell_type": "code",
   "execution_count": null,
   "id": "8532ed0c-1e40-4bcf-84d0-f7037bbcbbf6",
   "metadata": {},
   "outputs": [],
   "source": [
    "bandpass_6sv(525, 50)\n"
   ]
  },
  {
   "cell_type": "code",
   "execution_count": null,
   "id": "05b534db-4cdf-46b8-9e8a-2e61c50ce8a5",
   "metadata": {},
   "outputs": [],
   "source": [
    "def load_solar_et_spectrum(fpath):\n",
    "    df = pd.read_excel(fpath)\n",
    "    # convert to w m2 nm and nm for wavelength\n",
    "    # wavelength is in microns in file\n",
    "    wlen = df.iloc[:,0].values * 1000\n",
    "    # irradiance is in w/m2/micron in file\n",
    "    E = df.iloc[:,1].values / 1000\n",
    "    xr = xarray.DataArray(E, coords=[('wavelength', wlen)])\n",
    "    return xr.sel(wavelength=slice(100,3500))\n",
    "\n",
    "def compute_band_extraterrestrial_E(srfs, E_0, day_of_year):\n",
    "    E_is = []\n",
    "    for _, srf in srfs.items():\n",
    "        E_total = pysolar.radiation.get_apparent_extraterrestrial_flux(day_of_year)\n",
    "        E_i = (E_0 / E_0.integrate('wavelength')) * E_total\n",
    "        E_is.append(float((srf.interp_like(E_i) * E_i).fillna(0).integrate('wavelength')))\n",
    "    return xarray.DataArray(E_is, coords=[('band', np.arange(len(srfs)))])\n",
    "\n",
    "def radiance_to_reflectance(radiance, solar_z, F_0):\n",
    "    return (np.pi * radiance) / (np.cos(np.deg2rad(solar_z)) * F_0)"
   ]
  }
 ],
 "metadata": {
  "kernelspec": {
   "display_name": "Python 3 (ipykernel)",
   "language": "python",
   "name": "python3"
  },
  "language_info": {
   "codemirror_mode": {
    "name": "ipython",
    "version": 3
   },
   "file_extension": ".py",
   "mimetype": "text/x-python",
   "name": "python",
   "nbconvert_exporter": "python",
   "pygments_lexer": "ipython3",
   "version": "3.9.7"
  }
 },
 "nbformat": 4,
 "nbformat_minor": 5
}
