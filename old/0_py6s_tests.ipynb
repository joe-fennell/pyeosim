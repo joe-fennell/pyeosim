{
 "cells": [
  {
   "cell_type": "code",
   "execution_count": 2,
   "metadata": {},
   "outputs": [],
   "source": [
    "import numpy as np\n",
    "from Py6S import *\n",
    "# Create a SixS object called s (used as the standard name by convention)"
   ]
  },
  {
   "cell_type": "code",
   "execution_count": 24,
   "metadata": {},
   "outputs": [],
   "source": []
  },
  {
   "cell_type": "code",
   "execution_count": 25,
   "metadata": {},
   "outputs": [],
   "source": [
    "import os"
   ]
  },
  {
   "cell_type": "code",
   "execution_count": 32,
   "metadata": {},
   "outputs": [],
   "source": [
    "output = {}\n",
    "for p in params:\n",
    "    s = SixS()\n",
    "    s.ground_reflectance = GroundReflectance.HomogeneousLambertian(1)\n",
    "    geom = Geometry.User()\n",
    "    geom.from_time_and_location(lat=p[1],\n",
    "                                lon=p[2],\n",
    "                                datetimestring=p[0],\n",
    "                                view_z=0, view_a=0)\n",
    "    s.geometry = geom\n",
    "    s.wavelength = Wavelength(0.550)\n",
    "    s.altitudes.set_sensor_satellite_level()\n",
    "#     s.write_input_file(os.path.join('atmospheres', p[3]))\n",
    "    s.run\n",
    "    s.outputs.values"
   ]
  },
  {
   "cell_type": "code",
   "execution_count": 37,
   "metadata": {},
   "outputs": [
    {
     "name": "stdout",
     "output_type": "stream",
     "text": [
      "Running for many wavelengths - this may take a long time\n"
     ]
    },
    {
     "data": {
      "text/plain": [
       "(array([0.4, 0.5, 0.6]), array([178.373, 261.821, 250.194]))"
      ]
     },
     "execution_count": 37,
     "metadata": {},
     "output_type": "execute_result"
    }
   ],
   "source": [
    "SixSHelpers.Wavelengths.run_wavelengths(s, [.4,.5,.6], output_name='pixel_radiance')"
   ]
  },
  {
   "cell_type": "code",
   "execution_count": 44,
   "metadata": {},
   "outputs": [
    {
     "data": {
      "text/plain": [
       "array([0.01, 1.  ])"
      ]
     },
     "execution_count": 44,
     "metadata": {},
     "output_type": "execute_result"
    }
   ],
   "source": [
    "np.linspace(0.01, 1, 2)"
   ]
  },
  {
   "cell_type": "code",
   "execution_count": 43,
   "metadata": {},
   "outputs": [],
   "source": [
    "import json\n",
    "with open('path', 'w') as f:\n",
    "    f.write(json.dumps(s.outputs.values))"
   ]
  },
  {
   "cell_type": "code",
   "execution_count": 28,
   "metadata": {},
   "outputs": [
    {
     "data": {
      "text/html": [
       "<div>\n",
       "<style scoped>\n",
       "    .dataframe tbody tr th:only-of-type {\n",
       "        vertical-align: middle;\n",
       "    }\n",
       "\n",
       "    .dataframe tbody tr th {\n",
       "        vertical-align: top;\n",
       "    }\n",
       "\n",
       "    .dataframe thead th {\n",
       "        text-align: right;\n",
       "    }\n",
       "</style>\n",
       "<table border=\"1\" class=\"dataframe\">\n",
       "  <thead>\n",
       "    <tr style=\"text-align: right;\">\n",
       "      <th></th>\n",
       "      <th>a</th>\n",
       "      <th>b</th>\n",
       "      <th>c</th>\n",
       "    </tr>\n",
       "  </thead>\n",
       "  <tbody>\n",
       "    <tr>\n",
       "      <th>version</th>\n",
       "      <td>1.1</td>\n",
       "      <td>1.1</td>\n",
       "      <td>1.1</td>\n",
       "    </tr>\n",
       "    <tr>\n",
       "      <th>month</th>\n",
       "      <td>3</td>\n",
       "      <td>1</td>\n",
       "      <td>6</td>\n",
       "    </tr>\n",
       "    <tr>\n",
       "      <th>day</th>\n",
       "      <td>1</td>\n",
       "      <td>3</td>\n",
       "      <td>22</td>\n",
       "    </tr>\n",
       "    <tr>\n",
       "      <th>solar_z</th>\n",
       "      <td>64</td>\n",
       "      <td>80</td>\n",
       "      <td>34</td>\n",
       "    </tr>\n",
       "    <tr>\n",
       "      <th>solar_a</th>\n",
       "      <td>181</td>\n",
       "      <td>182</td>\n",
       "      <td>186</td>\n",
       "    </tr>\n",
       "    <tr>\n",
       "      <th>view_z</th>\n",
       "      <td>0</td>\n",
       "      <td>0</td>\n",
       "      <td>0</td>\n",
       "    </tr>\n",
       "    <tr>\n",
       "      <th>view_a</th>\n",
       "      <td>0</td>\n",
       "      <td>0</td>\n",
       "      <td>0</td>\n",
       "    </tr>\n",
       "    <tr>\n",
       "      <th>scattering_angle</th>\n",
       "      <td>115.25</td>\n",
       "      <td>99.73</td>\n",
       "      <td>145.86</td>\n",
       "    </tr>\n",
       "    <tr>\n",
       "      <th>azimuthal_angle_difference</th>\n",
       "      <td>181.28</td>\n",
       "      <td>182.95</td>\n",
       "      <td>186.04</td>\n",
       "    </tr>\n",
       "    <tr>\n",
       "      <th>visibility</th>\n",
       "      <td>8.49</td>\n",
       "      <td>8.49</td>\n",
       "      <td>8.49</td>\n",
       "    </tr>\n",
       "    <tr>\n",
       "      <th>aot550</th>\n",
       "      <td>0.5</td>\n",
       "      <td>0.5</td>\n",
       "      <td>0.5</td>\n",
       "    </tr>\n",
       "    <tr>\n",
       "      <th>ground_pressure</th>\n",
       "      <td>1013.0</td>\n",
       "      <td>1013.0</td>\n",
       "      <td>1013.0</td>\n",
       "    </tr>\n",
       "    <tr>\n",
       "      <th>ground_altitude</th>\n",
       "      <td>0.0</td>\n",
       "      <td>0.0</td>\n",
       "      <td>0.0</td>\n",
       "    </tr>\n",
       "    <tr>\n",
       "      <th>apparent_reflectance</th>\n",
       "      <td>0.838822</td>\n",
       "      <td>0.61377</td>\n",
       "      <td>0.979408</td>\n",
       "    </tr>\n",
       "    <tr>\n",
       "      <th>apparent_radiance</th>\n",
       "      <td>217.272</td>\n",
       "      <td>63.893</td>\n",
       "      <td>467.476</td>\n",
       "    </tr>\n",
       "    <tr>\n",
       "      <th>total_gaseous_transmittance</th>\n",
       "      <td>0.915</td>\n",
       "      <td>0.831</td>\n",
       "      <td>0.943</td>\n",
       "    </tr>\n",
       "    <tr>\n",
       "      <th>wv_above_aerosol</th>\n",
       "      <td>0.839</td>\n",
       "      <td>0.614</td>\n",
       "      <td>0.979</td>\n",
       "    </tr>\n",
       "    <tr>\n",
       "      <th>wv_mixed_with_aerosol</th>\n",
       "      <td>0.839</td>\n",
       "      <td>0.614</td>\n",
       "      <td>0.979</td>\n",
       "    </tr>\n",
       "    <tr>\n",
       "      <th>wv_under_aerosol</th>\n",
       "      <td>0.839</td>\n",
       "      <td>0.614</td>\n",
       "      <td>0.979</td>\n",
       "    </tr>\n",
       "    <tr>\n",
       "      <th>percent_direct_solar_irradiance</th>\n",
       "      <td>0.273</td>\n",
       "      <td>0.046</td>\n",
       "      <td>0.457</td>\n",
       "    </tr>\n",
       "    <tr>\n",
       "      <th>percent_diffuse_solar_irradiance</th>\n",
       "      <td>0.557</td>\n",
       "      <td>0.784</td>\n",
       "      <td>0.373</td>\n",
       "    </tr>\n",
       "    <tr>\n",
       "      <th>percent_environmental_irradiance</th>\n",
       "      <td>0.17</td>\n",
       "      <td>0.17</td>\n",
       "      <td>0.17</td>\n",
       "    </tr>\n",
       "    <tr>\n",
       "      <th>atmospheric_intrinsic_reflectance</th>\n",
       "      <td>0.089</td>\n",
       "      <td>0.132</td>\n",
       "      <td>0.069</td>\n",
       "    </tr>\n",
       "    <tr>\n",
       "      <th>background_reflectance</th>\n",
       "      <td>0.296</td>\n",
       "      <td>0.19</td>\n",
       "      <td>0.359</td>\n",
       "    </tr>\n",
       "    <tr>\n",
       "      <th>pixel_reflectance</th>\n",
       "      <td>0.454</td>\n",
       "      <td>0.292</td>\n",
       "      <td>0.552</td>\n",
       "    </tr>\n",
       "    <tr>\n",
       "      <th>direct_solar_irradiance</th>\n",
       "      <td>188.288</td>\n",
       "      <td>8.124</td>\n",
       "      <td>705.177</td>\n",
       "    </tr>\n",
       "    <tr>\n",
       "      <th>diffuse_solar_irradiance</th>\n",
       "      <td>384.116</td>\n",
       "      <td>139.678</td>\n",
       "      <td>576.157</td>\n",
       "    </tr>\n",
       "    <tr>\n",
       "      <th>environmental_irradiance</th>\n",
       "      <td>117.575</td>\n",
       "      <td>30.359</td>\n",
       "      <td>263.193</td>\n",
       "    </tr>\n",
       "    <tr>\n",
       "      <th>atmospheric_intrinsic_radiance</th>\n",
       "      <td>23.077</td>\n",
       "      <td>13.749</td>\n",
       "      <td>32.768</td>\n",
       "    </tr>\n",
       "    <tr>\n",
       "      <th>background_radiance</th>\n",
       "      <td>76.572</td>\n",
       "      <td>19.772</td>\n",
       "      <td>171.407</td>\n",
       "    </tr>\n",
       "    <tr>\n",
       "      <th>pixel_radiance</th>\n",
       "      <td>117.623</td>\n",
       "      <td>30.372</td>\n",
       "      <td>263.301</td>\n",
       "    </tr>\n",
       "    <tr>\n",
       "      <th>solar_spectrum</th>\n",
       "      <td>1907.345</td>\n",
       "      <td>1935.294</td>\n",
       "      <td>1811.651</td>\n",
       "    </tr>\n",
       "  </tbody>\n",
       "</table>\n",
       "</div>"
      ],
      "text/plain": [
       "                                          a         b         c\n",
       "version                                 1.1       1.1       1.1\n",
       "month                                     3         1         6\n",
       "day                                       1         3        22\n",
       "solar_z                                  64        80        34\n",
       "solar_a                                 181       182       186\n",
       "view_z                                    0         0         0\n",
       "view_a                                    0         0         0\n",
       "scattering_angle                     115.25     99.73    145.86\n",
       "azimuthal_angle_difference           181.28    182.95    186.04\n",
       "visibility                             8.49      8.49      8.49\n",
       "aot550                                  0.5       0.5       0.5\n",
       "ground_pressure                      1013.0    1013.0    1013.0\n",
       "ground_altitude                         0.0       0.0       0.0\n",
       "apparent_reflectance               0.838822   0.61377  0.979408\n",
       "apparent_radiance                   217.272    63.893   467.476\n",
       "total_gaseous_transmittance           0.915     0.831     0.943\n",
       "wv_above_aerosol                      0.839     0.614     0.979\n",
       "wv_mixed_with_aerosol                 0.839     0.614     0.979\n",
       "wv_under_aerosol                      0.839     0.614     0.979\n",
       "percent_direct_solar_irradiance       0.273     0.046     0.457\n",
       "percent_diffuse_solar_irradiance      0.557     0.784     0.373\n",
       "percent_environmental_irradiance       0.17      0.17      0.17\n",
       "atmospheric_intrinsic_reflectance     0.089     0.132     0.069\n",
       "background_reflectance                0.296      0.19     0.359\n",
       "pixel_reflectance                     0.454     0.292     0.552\n",
       "direct_solar_irradiance             188.288     8.124   705.177\n",
       "diffuse_solar_irradiance            384.116   139.678   576.157\n",
       "environmental_irradiance            117.575    30.359   263.193\n",
       "atmospheric_intrinsic_radiance       23.077    13.749    32.768\n",
       "background_radiance                  76.572    19.772   171.407\n",
       "pixel_radiance                      117.623    30.372   263.301\n",
       "solar_spectrum                     1907.345  1935.294  1811.651"
      ]
     },
     "execution_count": 28,
     "metadata": {},
     "output_type": "execute_result"
    }
   ],
   "source": [
    "import pandas as pd\n",
    "pd.DataFrame(output)"
   ]
  },
  {
   "cell_type": "code",
   "execution_count": 10,
   "metadata": {},
   "outputs": [
    {
     "data": {
      "text/plain": [
       "{'version': '1.1',\n",
       " 'month': 6,\n",
       " 'day': 22,\n",
       " 'solar_z': 28,\n",
       " 'solar_a': 180,\n",
       " 'view_z': 0,\n",
       " 'view_a': 0,\n",
       " 'scattering_angle': 151.4,\n",
       " 'azimuthal_angle_difference': 180.45,\n",
       " 'visibility': 8.49,\n",
       " 'aot550': 0.5,\n",
       " 'ground_pressure': 1013.0,\n",
       " 'ground_altitude': 0.0,\n",
       " 'apparent_reflectance': 0.9914373,\n",
       " 'apparent_radiance': 501.944,\n",
       " 'total_gaseous_transmittance': 0.945,\n",
       " 'wv_above_aerosol': 0.991,\n",
       " 'wv_mixed_with_aerosol': 0.991,\n",
       " 'wv_under_aerosol': 0.991,\n",
       " 'percent_direct_solar_irradiance': 0.471,\n",
       " 'percent_diffuse_solar_irradiance': 0.358,\n",
       " 'percent_environmental_irradiance': 0.17,\n",
       " 'atmospheric_intrinsic_reflectance': 0.07,\n",
       " 'background_reflectance': 0.363,\n",
       " 'pixel_reflectance': 0.558,\n",
       " 'direct_solar_irradiance': 780.986,\n",
       " 'diffuse_solar_irradiance': 593.926,\n",
       " 'environmental_irradiance': 282.415,\n",
       " 'atmospheric_intrinsic_radiance': 35.488,\n",
       " 'background_radiance': 183.926,\n",
       " 'pixel_radiance': 282.53,\n",
       " 'solar_spectrum': 1811.651}"
      ]
     },
     "execution_count": 10,
     "metadata": {},
     "output_type": "execute_result"
    }
   ],
   "source": [
    "o.values"
   ]
  },
  {
   "cell_type": "code",
   "execution_count": 4,
   "metadata": {},
   "outputs": [
    {
     "data": {
      "text/plain": [
       "'test.ini'"
      ]
     },
     "execution_count": 4,
     "metadata": {},
     "output_type": "execute_result"
    }
   ],
   "source": [
    "s.write_input_file('test.ini')"
   ]
  },
  {
   "cell_type": "code",
   "execution_count": 14,
   "metadata": {},
   "outputs": [
    {
     "name": "stdout",
     "output_type": "stream",
     "text": [
      "Running for many wavelengths - this may take a long time\n"
     ]
    }
   ],
   "source": [
    "wavelengths1, results1 = SixSHelpers.Wavelengths.run_wavelengths(s, np.arange(400,900,10)/1000,\n",
    "                                                               output_name='pixel_radiance')"
   ]
  },
  {
   "cell_type": "code",
   "execution_count": 1,
   "metadata": {},
   "outputs": [
    {
     "ename": "ModuleNotFoundError",
     "evalue": "No module named 'Py6S'",
     "output_type": "error",
     "traceback": [
      "\u001b[0;31m---------------------------------------------------------------------------\u001b[0m",
      "\u001b[0;31mModuleNotFoundError\u001b[0m                       Traceback (most recent call last)",
      "\u001b[0;32m<ipython-input-1-313556b2727a>\u001b[0m in \u001b[0;36m<module>\u001b[0;34m\u001b[0m\n\u001b[1;32m      2\u001b[0m \u001b[0;32mimport\u001b[0m \u001b[0mxarray\u001b[0m\u001b[0;34m\u001b[0m\u001b[0;34m\u001b[0m\u001b[0m\n\u001b[1;32m      3\u001b[0m \u001b[0;32mimport\u001b[0m \u001b[0mnumpy\u001b[0m \u001b[0;32mas\u001b[0m \u001b[0mnp\u001b[0m\u001b[0;34m\u001b[0m\u001b[0;34m\u001b[0m\u001b[0m\n\u001b[0;32m----> 4\u001b[0;31m \u001b[0;32mfrom\u001b[0m \u001b[0mPy6S\u001b[0m \u001b[0;32mimport\u001b[0m \u001b[0;34m*\u001b[0m\u001b[0;34m\u001b[0m\u001b[0;34m\u001b[0m\u001b[0m\n\u001b[0m\u001b[1;32m      5\u001b[0m \u001b[0;31m# Create a SixS object called s (used as the standard name by convention)\u001b[0m\u001b[0;34m\u001b[0m\u001b[0;34m\u001b[0m\u001b[0;34m\u001b[0m\u001b[0m\n\u001b[1;32m      6\u001b[0m \u001b[0ms\u001b[0m \u001b[0;34m=\u001b[0m \u001b[0mSixS\u001b[0m\u001b[0;34m(\u001b[0m\u001b[0;34m)\u001b[0m\u001b[0;34m\u001b[0m\u001b[0;34m\u001b[0m\u001b[0m\n",
      "\u001b[0;31mModuleNotFoundError\u001b[0m: No module named 'Py6S'"
     ]
    }
   ],
   "source": [
    "from pyeosim import datasets\n",
    "import xarray\n",
    "import numpy as np\n",
    "from Py6S import *\n",
    "# Create a SixS object called s (used as the standard name by convention)\n",
    "s = SixS()\n",
    "s.ground_reflectance = GroundReflectance.HomogeneousLambertian(1)\n",
    "geom = Geometry.User()\n",
    "geom.from_time_and_location(lat=52.04, lon=0.76, datetimestring='2020/06/22T12:00',\n",
    "                            view_z=0, view_a=0)\n",
    "s.geometry = geom\n",
    "\n",
    "s.altitudes.set_sensor_satellite_level()\n",
    "\n",
    "# Run the 6S simulation defined by this SixS object across the\n",
    "# whole VNIR range\n",
    "wavelengths1, results1 = SixSHelpers.Wavelengths.run_wavelengths(s, np.arange(400,900,2)/1000,\n",
    "                                                               output_name='pixel_radiance')\n",
    "# Plot these results, with the y axis label set to \"Pixel Radiance\"\n",
    "SixSHelpers.Wavelengths.plot_wavelengths(wavelengths1, results1, \"Pixel Radiance\")\n",
    "ref_100 = xarray.DataArray(results1, [('wavelength', wavelengths1*1000)]).interp(\n",
    "    wavelength = np.arange(400,900,1)\n",
    ").interpolate_na('wavelength')\n",
    "\n",
    "rho = np.arange(0,1,.001)\n",
    "output = np.empty(shape=(len(rho), 500))\n",
    "\n",
    "for i, _rho in enumerate(rho):\n",
    "    _res = ref_100* _rho\n",
    "    output[i,:] = _res\n",
    "\n",
    "LUT = xarray.DataArray(output,[('rho', rho),('wavelength', np.arange(400,900,1))])\n",
    "LUTd = LUT.to_dataset(name='pixel_radiance')\n",
    "LUTd.attrs['6S_output_params'] = str(s.outputs.values)"
   ]
  },
  {
   "cell_type": "code",
   "execution_count": null,
   "metadata": {},
   "outputs": [],
   "source": []
  }
 ],
 "metadata": {
  "kernelspec": {
   "display_name": "Python 3",
   "language": "python",
   "name": "python3"
  },
  "language_info": {
   "codemirror_mode": {
    "name": "ipython",
    "version": 3
   },
   "file_extension": ".py",
   "mimetype": "text/x-python",
   "name": "python",
   "nbconvert_exporter": "python",
   "pygments_lexer": "ipython3",
   "version": "3.8.0"
  }
 },
 "nbformat": 4,
 "nbformat_minor": 4
}
